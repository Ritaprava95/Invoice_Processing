{
  "nbformat": 4,
  "nbformat_minor": 0,
  "metadata": {
    "colab": {
      "name": "DocumentProcessingRetinaNet.ipynb",
      "provenance": [],
      "collapsed_sections": [],
      "include_colab_link": true
    },
    "kernelspec": {
      "name": "python3",
      "display_name": "Python 3"
    }
  },
  "cells": [
    {
      "cell_type": "markdown",
      "metadata": {
        "id": "view-in-github",
        "colab_type": "text"
      },
      "source": [
        "<a href=\"https://colab.research.google.com/github/Ritaprava95/Invoice_Processing/blob/main/DocumentProcessingRetinaNet.ipynb\" target=\"_parent\"><img src=\"https://colab.research.google.com/assets/colab-badge.svg\" alt=\"Open In Colab\"/></a>"
      ]
    },
    {
      "cell_type": "code",
      "metadata": {
        "id": "3JQC8iYvUwpW",
        "colab": {
          "base_uri": "https://localhost:8080/"
        },
        "outputId": "fdcc5dc5-17e5-4c1f-9730-30c16188898c"
      },
      "source": [
        "!git clone https://github.com/fizyr/keras-retinanet.git"
      ],
      "execution_count": null,
      "outputs": [
        {
          "output_type": "stream",
          "text": [
            "Cloning into 'keras-retinanet'...\n",
            "remote: Enumerating objects: 6205, done.\u001b[K\n",
            "remote: Total 6205 (delta 0), reused 0 (delta 0), pack-reused 6205\u001b[K\n",
            "Receiving objects: 100% (6205/6205), 13.47 MiB | 21.31 MiB/s, done.\n",
            "Resolving deltas: 100% (4200/4200), done.\n"
          ],
          "name": "stdout"
        }
      ]
    },
    {
      "cell_type": "code",
      "metadata": {
        "id": "YFUTpC6TU8B_",
        "colab": {
          "base_uri": "https://localhost:8080/"
        },
        "outputId": "3ae96789-f870-4b01-c80f-b5c37ba8d889"
      },
      "source": [
        "%cd keras-retinanet/\n",
        "!pip install ."
      ],
      "execution_count": null,
      "outputs": [
        {
          "output_type": "stream",
          "text": [
            "/content/keras-retinanet\n",
            "Processing /content/keras-retinanet\n",
            "Collecting keras-resnet==0.2.0\n",
            "  Downloading https://files.pythonhosted.org/packages/76/d4/a35cbd07381139dda4db42c81b88c59254faac026109022727b45b31bcad/keras-resnet-0.2.0.tar.gz\n",
            "Requirement already satisfied: six in /usr/local/lib/python3.7/dist-packages (from keras-retinanet==1.0.0) (1.15.0)\n",
            "Requirement already satisfied: numpy in /usr/local/lib/python3.7/dist-packages (from keras-retinanet==1.0.0) (1.19.5)\n",
            "Requirement already satisfied: cython in /usr/local/lib/python3.7/dist-packages (from keras-retinanet==1.0.0) (0.29.23)\n",
            "Requirement already satisfied: Pillow in /usr/local/lib/python3.7/dist-packages (from keras-retinanet==1.0.0) (7.1.2)\n",
            "Requirement already satisfied: opencv-python in /usr/local/lib/python3.7/dist-packages (from keras-retinanet==1.0.0) (4.1.2.30)\n",
            "Requirement already satisfied: progressbar2 in /usr/local/lib/python3.7/dist-packages (from keras-retinanet==1.0.0) (3.38.0)\n",
            "Requirement already satisfied: keras>=2.2.4 in /usr/local/lib/python3.7/dist-packages (from keras-resnet==0.2.0->keras-retinanet==1.0.0) (2.4.3)\n",
            "Requirement already satisfied: python-utils>=2.3.0 in /usr/local/lib/python3.7/dist-packages (from progressbar2->keras-retinanet==1.0.0) (2.5.6)\n",
            "Requirement already satisfied: h5py in /usr/local/lib/python3.7/dist-packages (from keras>=2.2.4->keras-resnet==0.2.0->keras-retinanet==1.0.0) (2.10.0)\n",
            "Requirement already satisfied: pyyaml in /usr/local/lib/python3.7/dist-packages (from keras>=2.2.4->keras-resnet==0.2.0->keras-retinanet==1.0.0) (3.13)\n",
            "Requirement already satisfied: scipy>=0.14 in /usr/local/lib/python3.7/dist-packages (from keras>=2.2.4->keras-resnet==0.2.0->keras-retinanet==1.0.0) (1.4.1)\n",
            "Building wheels for collected packages: keras-retinanet, keras-resnet\n",
            "  Building wheel for keras-retinanet (setup.py) ... \u001b[?25l\u001b[?25hdone\n",
            "  Created wheel for keras-retinanet: filename=keras_retinanet-1.0.0-cp37-cp37m-linux_x86_64.whl size=168020 sha256=fc6534b42c08a38d0ba32addb94fb52d056fe7ed3d4d4da1bbbc2b5517dead9c\n",
            "  Stored in directory: /root/.cache/pip/wheels/b2/9f/57/cb0305f6f5a41fc3c11ad67b8cedfbe9127775b563337827ba\n",
            "  Building wheel for keras-resnet (setup.py) ... \u001b[?25l\u001b[?25hdone\n",
            "  Created wheel for keras-resnet: filename=keras_resnet-0.2.0-py2.py3-none-any.whl size=20486 sha256=baa854ddc3d8bf37eb9ba649295faefef89e2fc7b9aa7500c199208e38f41c6b\n",
            "  Stored in directory: /root/.cache/pip/wheels/5f/09/a5/497a30fd9ad9964e98a1254d1e164bcd1b8a5eda36197ecb3c\n",
            "Successfully built keras-retinanet keras-resnet\n",
            "Installing collected packages: keras-resnet, keras-retinanet\n",
            "Successfully installed keras-resnet-0.2.0 keras-retinanet-1.0.0\n"
          ],
          "name": "stdout"
        }
      ]
    },
    {
      "cell_type": "code",
      "metadata": {
        "id": "DXmPcJlSVAyc",
        "colab": {
          "base_uri": "https://localhost:8080/"
        },
        "outputId": "31011938-a4ee-48f0-a341-9a38c3617be2"
      },
      "source": [
        "!python setup.py build_ext --inplace"
      ],
      "execution_count": null,
      "outputs": [
        {
          "output_type": "stream",
          "text": [
            "running build_ext\n",
            "cythoning keras_retinanet/utils/compute_overlap.pyx to keras_retinanet/utils/compute_overlap.c\n",
            "/usr/local/lib/python3.7/dist-packages/Cython/Compiler/Main.py:369: FutureWarning: Cython directive 'language_level' not set, using 2 for now (Py2). This will change in a later release! File: /content/keras-retinanet/keras_retinanet/utils/compute_overlap.pyx\n",
            "  tree = Parsing.p_module(s, pxd, full_module_name)\n",
            "building 'keras_retinanet.utils.compute_overlap' extension\n",
            "creating build\n",
            "creating build/temp.linux-x86_64-3.7\n",
            "creating build/temp.linux-x86_64-3.7/keras_retinanet\n",
            "creating build/temp.linux-x86_64-3.7/keras_retinanet/utils\n",
            "x86_64-linux-gnu-gcc -pthread -Wno-unused-result -Wsign-compare -DNDEBUG -g -fwrapv -O2 -Wall -g -fdebug-prefix-map=/build/python3.7-OGiuun/python3.7-3.7.10=. -fstack-protector-strong -Wformat -Werror=format-security -g -fdebug-prefix-map=/build/python3.7-OGiuun/python3.7-3.7.10=. -fstack-protector-strong -Wformat -Werror=format-security -Wdate-time -D_FORTIFY_SOURCE=2 -fPIC -I/usr/include/python3.7m -I/usr/local/lib/python3.7/dist-packages/numpy/core/include -c keras_retinanet/utils/compute_overlap.c -o build/temp.linux-x86_64-3.7/keras_retinanet/utils/compute_overlap.o\n",
            "In file included from \u001b[01m\u001b[K/usr/local/lib/python3.7/dist-packages/numpy/core/include/numpy/ndarraytypes.h:1822:0\u001b[m\u001b[K,\n",
            "                 from \u001b[01m\u001b[K/usr/local/lib/python3.7/dist-packages/numpy/core/include/numpy/ndarrayobject.h:12\u001b[m\u001b[K,\n",
            "                 from \u001b[01m\u001b[K/usr/local/lib/python3.7/dist-packages/numpy/core/include/numpy/arrayobject.h:4\u001b[m\u001b[K,\n",
            "                 from \u001b[01m\u001b[Kkeras_retinanet/utils/compute_overlap.c:612\u001b[m\u001b[K:\n",
            "\u001b[01m\u001b[K/usr/local/lib/python3.7/dist-packages/numpy/core/include/numpy/npy_1_7_deprecated_api.h:17:2:\u001b[m\u001b[K \u001b[01;35m\u001b[Kwarning: \u001b[m\u001b[K#warning \"Using deprecated NumPy API, disable it with \" \"#define NPY_NO_DEPRECATED_API NPY_1_7_API_VERSION\" [\u001b[01;35m\u001b[K-Wcpp\u001b[m\u001b[K]\n",
            " #\u001b[01;35m\u001b[Kwarning\u001b[m\u001b[K \"Using deprecated NumPy API, disable it with \" \\\n",
            "  \u001b[01;35m\u001b[K^~~~~~~\u001b[m\u001b[K\n",
            "creating build/lib.linux-x86_64-3.7\n",
            "creating build/lib.linux-x86_64-3.7/keras_retinanet\n",
            "creating build/lib.linux-x86_64-3.7/keras_retinanet/utils\n",
            "x86_64-linux-gnu-gcc -pthread -shared -Wl,-O1 -Wl,-Bsymbolic-functions -Wl,-Bsymbolic-functions -Wl,-z,relro -Wl,-Bsymbolic-functions -Wl,-z,relro -g -fdebug-prefix-map=/build/python3.7-OGiuun/python3.7-3.7.10=. -fstack-protector-strong -Wformat -Werror=format-security -Wdate-time -D_FORTIFY_SOURCE=2 build/temp.linux-x86_64-3.7/keras_retinanet/utils/compute_overlap.o -o build/lib.linux-x86_64-3.7/keras_retinanet/utils/compute_overlap.cpython-37m-x86_64-linux-gnu.so\n",
            "copying build/lib.linux-x86_64-3.7/keras_retinanet/utils/compute_overlap.cpython-37m-x86_64-linux-gnu.so -> keras_retinanet/utils\n"
          ],
          "name": "stdout"
        }
      ]
    },
    {
      "cell_type": "code",
      "metadata": {
        "id": "nBIKHleABTh8"
      },
      "source": [
        "# !pip install keras==2.3.1\n",
        "# !pip install tensorflow==2.1.0"
      ],
      "execution_count": null,
      "outputs": []
    },
    {
      "cell_type": "code",
      "metadata": {
        "id": "xDYmPgxEVWem"
      },
      "source": [
        "import numpy as np\n",
        "import pandas as pd\n",
        "import matplotlib.pyplot as plt\n",
        "from sklearn.model_selection import train_test_split\n",
        "import requests\n",
        "import urllib\n",
        "import os\n",
        "from PIL import Image\n",
        "import cv2\n",
        "\n",
        "from keras_retinanet import models\n",
        "from keras_retinanet.utils.image import preprocess_image, resize_image\n",
        "from keras_retinanet.utils.visualization import draw_box, draw_caption\n",
        "from keras_retinanet.utils.colors import label_color"
      ],
      "execution_count": null,
      "outputs": []
    },
    {
      "cell_type": "code",
      "metadata": {
        "id": "xyVG7wsGUmoR",
        "colab": {
          "base_uri": "https://localhost:8080/"
        },
        "outputId": "16a18ef0-c3af-43de-8b41-9454ddf188b0"
      },
      "source": [
        "from google.colab import drive\n",
        "drive.mount(\"/content/drive\")"
      ],
      "execution_count": null,
      "outputs": [
        {
          "output_type": "stream",
          "text": [
            "Mounted at /content/drive\n"
          ],
          "name": "stdout"
        }
      ]
    },
    {
      "cell_type": "code",
      "metadata": {
        "id": "9gM988ZIV3ej",
        "colab": {
          "base_uri": "https://localhost:8080/"
        },
        "outputId": "68ea27a8-8b0f-45ed-f177-bf3736258cf1"
      },
      "source": [
        "!ls /content/drive/MyDrive/"
      ],
      "execution_count": null,
      "outputs": [
        {
          "output_type": "stream",
          "text": [
            " ananthgiri.mp4\t\t\t      invoice_entity.py\n",
            " ChatbotNukeera.zip\t\t      Output.json\n",
            "'Colab Notebooks'\t\t     'TextClassification (1).zip'\n",
            " DSC_2818.jpg\t\t\t      TextClassification.zip\n",
            " GT_Invoices\t\t\t     'VHDL Tutorial.new.docx'\n",
            "'How to get started with Drive.pdf'   weapons_box_sem_seg\n"
          ],
          "name": "stdout"
        }
      ]
    },
    {
      "cell_type": "code",
      "metadata": {
        "id": "5zK4mr1YA74U"
      },
      "source": [
        "#os.mkdir(\"/content/drive/MyDrive/GT_Invoices/pics/\")\n",
        "#os.mkdir(\"/content/drive/MyDrive/GT_Invoices/annotations/\")"
      ],
      "execution_count": null,
      "outputs": []
    },
    {
      "cell_type": "code",
      "metadata": {
        "id": "DPTjRYqbWKVl"
      },
      "source": [
        "for f in os.listdir(\"/content/drive/MyDrive/GT_Invoices/\"):\n",
        "  if f.endswith(\".tif\"):\n",
        "    os.rename(\"/content/drive/MyDrive/GT_Invoices/\"+f, \"/content/drive/MyDrive/GT_Invoices/pics/\"+f)\n",
        "    ann = f.split(\".tif\")[0]+\"_gt.xml\"\n",
        "    os.rename(\"/content/drive/MyDrive/GT_Invoices/\"+ann, \"/content/drive/MyDrive/GT_Invoices/annotations/\"+ann)\n"
      ],
      "execution_count": null,
      "outputs": []
    },
    {
      "cell_type": "code",
      "metadata": {
        "id": "tF-bYQNcCyS0"
      },
      "source": [
        "os.mkdir(\"/content/drive/MyDrive/GT_Invoices/test_pics/\")\n",
        "os.mkdir(\"/content/drive/MyDrive/GT_Invoices/test_annotations/\")"
      ],
      "execution_count": null,
      "outputs": []
    },
    {
      "cell_type": "code",
      "metadata": {
        "id": "rhImvtRkX2Ao",
        "colab": {
          "base_uri": "https://localhost:8080/"
        },
        "outputId": "bb787d30-0fb1-43cb-ee53-f08c56e5b1a3"
      },
      "source": [
        "!pip install bs4"
      ],
      "execution_count": null,
      "outputs": [
        {
          "output_type": "stream",
          "text": [
            "Requirement already satisfied: bs4 in /usr/local/lib/python3.7/dist-packages (0.0.1)\n",
            "Requirement already satisfied: beautifulsoup4 in /usr/local/lib/python3.7/dist-packages (from bs4) (4.6.3)\n"
          ],
          "name": "stdout"
        }
      ]
    },
    {
      "cell_type": "code",
      "metadata": {
        "id": "YAo8SdPbVkCL",
        "colab": {
          "base_uri": "https://localhost:8080/",
          "height": 345
        },
        "outputId": "1a4df950-74d5-4f97-da68-ed3c059a0e03"
      },
      "source": [
        "#df = pd.DataFrame(columns=['image_name', 'x_min', 'y_min', 'x_max', 'y_max', 'class_name'])\n",
        "from bs4 import BeautifulSoup\n",
        "lst = []\n",
        "for f in os.listdir(\"/content/drive/MyDrive/GT_Invoices/annotations/\"):\n",
        "  fl = open(\"/content/drive/MyDrive/GT_Invoices/annotations/\"+f, \"r\", encoding=\"utf8\")\n",
        "  ann = fl.read()\n",
        "  ann = BeautifulSoup(ann)\n",
        "  fl.close()\n",
        "  #print(ann)\n",
        "  txt_reg = ann.find_all('textregion')\n",
        "  for e in txt_reg:\n",
        "    l  = [f.split(\"_gt\")[0]+\".tif\"]\n",
        "    x1,y1,x2,y2 = int(float(e.coords['points'].split()[0].split(',')[0])), int(float(e.coords['points'].split()[0].split(',')[1])), \\\n",
        "    int(float(e.coords['points'].split()[2].split(',')[0])), int(float(e.coords['points'].split()[2].split(',')[1]))\n",
        "    try:\n",
        "      if x2>x1 and y2>y1:\n",
        "        class_name = e.property['value']\n",
        "        l = l +[x1,y1,x2,y2,class_name]\n",
        "        lst.append(l)\n",
        "      else:\n",
        "        pass\n",
        "    except:\n",
        "      pass\n"
      ],
      "execution_count": null,
      "outputs": [
        {
          "output_type": "error",
          "ename": "KeyboardInterrupt",
          "evalue": "ignored",
          "traceback": [
            "\u001b[0;31m---------------------------------------------------------------------------\u001b[0m",
            "\u001b[0;31mKeyboardInterrupt\u001b[0m                         Traceback (most recent call last)",
            "\u001b[0;32m<ipython-input-9-814e07dbf57a>\u001b[0m in \u001b[0;36m<module>\u001b[0;34m()\u001b[0m\n\u001b[1;32m      4\u001b[0m \u001b[0;32mfor\u001b[0m \u001b[0mf\u001b[0m \u001b[0;32min\u001b[0m \u001b[0mos\u001b[0m\u001b[0;34m.\u001b[0m\u001b[0mlistdir\u001b[0m\u001b[0;34m(\u001b[0m\u001b[0;34m\"/content/drive/MyDrive/GT_Invoices/annotations/\"\u001b[0m\u001b[0;34m)\u001b[0m\u001b[0;34m:\u001b[0m\u001b[0;34m\u001b[0m\u001b[0;34m\u001b[0m\u001b[0m\n\u001b[1;32m      5\u001b[0m   \u001b[0mfl\u001b[0m \u001b[0;34m=\u001b[0m \u001b[0mopen\u001b[0m\u001b[0;34m(\u001b[0m\u001b[0;34m\"/content/drive/MyDrive/GT_Invoices/annotations/\"\u001b[0m\u001b[0;34m+\u001b[0m\u001b[0mf\u001b[0m\u001b[0;34m,\u001b[0m \u001b[0;34m\"r\"\u001b[0m\u001b[0;34m,\u001b[0m \u001b[0mencoding\u001b[0m\u001b[0;34m=\u001b[0m\u001b[0;34m\"utf8\"\u001b[0m\u001b[0;34m)\u001b[0m\u001b[0;34m\u001b[0m\u001b[0;34m\u001b[0m\u001b[0m\n\u001b[0;32m----> 6\u001b[0;31m   \u001b[0mann\u001b[0m \u001b[0;34m=\u001b[0m \u001b[0mfl\u001b[0m\u001b[0;34m.\u001b[0m\u001b[0mread\u001b[0m\u001b[0;34m(\u001b[0m\u001b[0;34m)\u001b[0m\u001b[0;34m\u001b[0m\u001b[0;34m\u001b[0m\u001b[0m\n\u001b[0m\u001b[1;32m      7\u001b[0m   \u001b[0mann\u001b[0m \u001b[0;34m=\u001b[0m \u001b[0mBeautifulSoup\u001b[0m\u001b[0;34m(\u001b[0m\u001b[0mann\u001b[0m\u001b[0;34m)\u001b[0m\u001b[0;34m\u001b[0m\u001b[0;34m\u001b[0m\u001b[0m\n\u001b[1;32m      8\u001b[0m   \u001b[0mfl\u001b[0m\u001b[0;34m.\u001b[0m\u001b[0mclose\u001b[0m\u001b[0;34m(\u001b[0m\u001b[0;34m)\u001b[0m\u001b[0;34m\u001b[0m\u001b[0;34m\u001b[0m\u001b[0m\n",
            "\u001b[0;32m/usr/lib/python3.7/codecs.py\u001b[0m in \u001b[0;36mdecode\u001b[0;34m(self, input, final)\u001b[0m\n\u001b[1;32m    317\u001b[0m         \u001b[0;32mraise\u001b[0m \u001b[0mNotImplementedError\u001b[0m\u001b[0;34m\u001b[0m\u001b[0;34m\u001b[0m\u001b[0m\n\u001b[1;32m    318\u001b[0m \u001b[0;34m\u001b[0m\u001b[0m\n\u001b[0;32m--> 319\u001b[0;31m     \u001b[0;32mdef\u001b[0m \u001b[0mdecode\u001b[0m\u001b[0;34m(\u001b[0m\u001b[0mself\u001b[0m\u001b[0;34m,\u001b[0m \u001b[0minput\u001b[0m\u001b[0;34m,\u001b[0m \u001b[0mfinal\u001b[0m\u001b[0;34m=\u001b[0m\u001b[0;32mFalse\u001b[0m\u001b[0;34m)\u001b[0m\u001b[0;34m:\u001b[0m\u001b[0;34m\u001b[0m\u001b[0;34m\u001b[0m\u001b[0m\n\u001b[0m\u001b[1;32m    320\u001b[0m         \u001b[0;31m# decode input (taking the buffer into account)\u001b[0m\u001b[0;34m\u001b[0m\u001b[0;34m\u001b[0m\u001b[0;34m\u001b[0m\u001b[0m\n\u001b[1;32m    321\u001b[0m         \u001b[0mdata\u001b[0m \u001b[0;34m=\u001b[0m \u001b[0mself\u001b[0m\u001b[0;34m.\u001b[0m\u001b[0mbuffer\u001b[0m \u001b[0;34m+\u001b[0m \u001b[0minput\u001b[0m\u001b[0;34m\u001b[0m\u001b[0;34m\u001b[0m\u001b[0m\n",
            "\u001b[0;31mKeyboardInterrupt\u001b[0m: "
          ]
        }
      ]
    },
    {
      "cell_type": "code",
      "metadata": {
        "id": "3Hn2M27zM7wO"
      },
      "source": [
        "df = pd.DataFrame(columns=['image_name', 'x_min', 'y_min', 'x_max', 'y_max', 'class_name'], data=lst)"
      ],
      "execution_count": null,
      "outputs": []
    },
    {
      "cell_type": "code",
      "metadata": {
        "id": "JUTRatLjX_C7",
        "colab": {
          "base_uri": "https://localhost:8080/",
          "height": 196
        },
        "outputId": "2cb99457-4786-4458-fb06-0f0c1d36ee00"
      },
      "source": [
        "df.head()"
      ],
      "execution_count": null,
      "outputs": [
        {
          "output_type": "execute_result",
          "data": {
            "text/html": [
              "<div>\n",
              "<style scoped>\n",
              "    .dataframe tbody tr th:only-of-type {\n",
              "        vertical-align: middle;\n",
              "    }\n",
              "\n",
              "    .dataframe tbody tr th {\n",
              "        vertical-align: top;\n",
              "    }\n",
              "\n",
              "    .dataframe thead th {\n",
              "        text-align: right;\n",
              "    }\n",
              "</style>\n",
              "<table border=\"1\" class=\"dataframe\">\n",
              "  <thead>\n",
              "    <tr style=\"text-align: right;\">\n",
              "      <th></th>\n",
              "      <th>image_name</th>\n",
              "      <th>x_min</th>\n",
              "      <th>y_min</th>\n",
              "      <th>x_max</th>\n",
              "      <th>y_max</th>\n",
              "      <th>class_name</th>\n",
              "    </tr>\n",
              "  </thead>\n",
              "  <tbody>\n",
              "    <tr>\n",
              "      <th>0</th>\n",
              "      <td>0001139716.tif</td>\n",
              "      <td>5</td>\n",
              "      <td>29</td>\n",
              "      <td>665</td>\n",
              "      <td>255</td>\n",
              "      <td>supplier</td>\n",
              "    </tr>\n",
              "    <tr>\n",
              "      <th>1</th>\n",
              "      <td>0001139716.tif</td>\n",
              "      <td>15</td>\n",
              "      <td>257</td>\n",
              "      <td>666</td>\n",
              "      <td>290</td>\n",
              "      <td>invoice_info</td>\n",
              "    </tr>\n",
              "    <tr>\n",
              "      <th>2</th>\n",
              "      <td>0001139716.tif</td>\n",
              "      <td>16</td>\n",
              "      <td>293</td>\n",
              "      <td>668</td>\n",
              "      <td>354</td>\n",
              "      <td>receiver</td>\n",
              "    </tr>\n",
              "    <tr>\n",
              "      <th>3</th>\n",
              "      <td>0001139716.tif</td>\n",
              "      <td>18</td>\n",
              "      <td>356</td>\n",
              "      <td>668</td>\n",
              "      <td>696</td>\n",
              "      <td>positions</td>\n",
              "    </tr>\n",
              "    <tr>\n",
              "      <th>4</th>\n",
              "      <td>0001139716.tif</td>\n",
              "      <td>22</td>\n",
              "      <td>699</td>\n",
              "      <td>664</td>\n",
              "      <td>834</td>\n",
              "      <td>total</td>\n",
              "    </tr>\n",
              "  </tbody>\n",
              "</table>\n",
              "</div>"
            ],
            "text/plain": [
              "       image_name  x_min  y_min  x_max  y_max    class_name\n",
              "0  0001139716.tif      5     29    665    255      supplier\n",
              "1  0001139716.tif     15    257    666    290  invoice_info\n",
              "2  0001139716.tif     16    293    668    354      receiver\n",
              "3  0001139716.tif     18    356    668    696     positions\n",
              "4  0001139716.tif     22    699    664    834         total"
            ]
          },
          "metadata": {
            "tags": []
          },
          "execution_count": 108
        }
      ]
    },
    {
      "cell_type": "code",
      "metadata": {
        "id": "oZWs-Dq5g182",
        "colab": {
          "base_uri": "https://localhost:8080/"
        },
        "outputId": "9fc34a73-9eaa-4801-ae85-b4de7a600ce3"
      },
      "source": [
        "df.shape"
      ],
      "execution_count": null,
      "outputs": [
        {
          "output_type": "execute_result",
          "data": {
            "text/plain": [
              "(4356, 6)"
            ]
          },
          "metadata": {
            "tags": []
          },
          "execution_count": 109
        }
      ]
    },
    {
      "cell_type": "code",
      "metadata": {
        "id": "F1UH4VlYfh4S",
        "colab": {
          "base_uri": "https://localhost:8080/",
          "height": 286
        },
        "outputId": "c22dabbd-9a3c-47e9-8203-5f3c2a0a5ef3"
      },
      "source": [
        "im = Image.open(\"/content/drive/MyDrive/GT_Invoices/pics/0001139716.tif\")\n",
        "plt.imshow(im)"
      ],
      "execution_count": null,
      "outputs": [
        {
          "output_type": "execute_result",
          "data": {
            "text/plain": [
              "<matplotlib.image.AxesImage at 0x7f6b37296710>"
            ]
          },
          "metadata": {
            "tags": []
          },
          "execution_count": 110
        },
        {
          "output_type": "display_data",
          "data": {
            "image/png": "[encoded data removed]",
            "text/plain": [
              "<Figure size 432x288 with 1 Axes>"
            ]
          },
          "metadata": {
            "tags": [],
            "needs_background": "light"
          }
        }
      ]
    },
    {
      "cell_type": "code",
      "metadata": {
        "colab": {
          "base_uri": "https://localhost:8080/",
          "height": 286
        },
        "id": "NtGOcfCTXRdj",
        "outputId": "bebe8094-cc92-4314-a22f-6936588ac317"
      },
      "source": [
        "im = cv2.imread(\"/content/drive/MyDrive/GT_Invoices/pics/0001139716.tif\")\n",
        "plt.imshow(im)"
      ],
      "execution_count": null,
      "outputs": [
        {
          "output_type": "execute_result",
          "data": {
            "text/plain": [
              "<matplotlib.image.AxesImage at 0x7f6b38065590>"
            ]
          },
          "metadata": {
            "tags": []
          },
          "execution_count": 111
        },
        {
          "output_type": "display_data",
          "data": {
            "image/png": "[encoded data removed]",
            "text/plain": [
              "<Figure size 432x288 with 1 Axes>"
            ]
          },
          "metadata": {
            "tags": [],
            "needs_background": "light"
          }
        }
      ]
    },
    {
      "cell_type": "code",
      "metadata": {
        "id": "isP-ZNHvUW6L"
      },
      "source": [
        "train_df, test_df = train_test_split(df, test_size=0.1)"
      ],
      "execution_count": null,
      "outputs": []
    },
    {
      "cell_type": "code",
      "metadata": {
        "colab": {
          "base_uri": "https://localhost:8080/",
          "height": 196
        },
        "id": "aSe4M2HkUgKH",
        "outputId": "8c6d5e08-9270-4cc6-a25b-bf8ffb2002fd"
      },
      "source": [
        "train_df.head()"
      ],
      "execution_count": null,
      "outputs": [
        {
          "output_type": "execute_result",
          "data": {
            "text/html": [
              "<div>\n",
              "<style scoped>\n",
              "    .dataframe tbody tr th:only-of-type {\n",
              "        vertical-align: middle;\n",
              "    }\n",
              "\n",
              "    .dataframe tbody tr th {\n",
              "        vertical-align: top;\n",
              "    }\n",
              "\n",
              "    .dataframe thead th {\n",
              "        text-align: right;\n",
              "    }\n",
              "</style>\n",
              "<table border=\"1\" class=\"dataframe\">\n",
              "  <thead>\n",
              "    <tr style=\"text-align: right;\">\n",
              "      <th></th>\n",
              "      <th>image_name</th>\n",
              "      <th>x_min</th>\n",
              "      <th>y_min</th>\n",
              "      <th>x_max</th>\n",
              "      <th>y_max</th>\n",
              "      <th>class_name</th>\n",
              "    </tr>\n",
              "  </thead>\n",
              "  <tbody>\n",
              "    <tr>\n",
              "      <th>2368</th>\n",
              "      <td>2028697011.tif</td>\n",
              "      <td>487</td>\n",
              "      <td>587</td>\n",
              "      <td>671</td>\n",
              "      <td>623</td>\n",
              "      <td>total</td>\n",
              "    </tr>\n",
              "    <tr>\n",
              "      <th>162</th>\n",
              "      <td>0001431487.tif</td>\n",
              "      <td>6</td>\n",
              "      <td>5</td>\n",
              "      <td>396</td>\n",
              "      <td>77</td>\n",
              "      <td>supplier</td>\n",
              "    </tr>\n",
              "    <tr>\n",
              "      <th>3445</th>\n",
              "      <td>2074417069.tif</td>\n",
              "      <td>50</td>\n",
              "      <td>105</td>\n",
              "      <td>428</td>\n",
              "      <td>186</td>\n",
              "      <td>receiver</td>\n",
              "    </tr>\n",
              "    <tr>\n",
              "      <th>595</th>\n",
              "      <td>0060076186.tif</td>\n",
              "      <td>13</td>\n",
              "      <td>580</td>\n",
              "      <td>748</td>\n",
              "      <td>613</td>\n",
              "      <td>total</td>\n",
              "    </tr>\n",
              "    <tr>\n",
              "      <th>3087</th>\n",
              "      <td>2063610122.tif</td>\n",
              "      <td>316</td>\n",
              "      <td>58</td>\n",
              "      <td>434</td>\n",
              "      <td>82</td>\n",
              "      <td>other</td>\n",
              "    </tr>\n",
              "  </tbody>\n",
              "</table>\n",
              "</div>"
            ],
            "text/plain": [
              "          image_name  x_min  y_min  x_max  y_max class_name\n",
              "2368  2028697011.tif    487    587    671    623      total\n",
              "162   0001431487.tif      6      5    396     77   supplier\n",
              "3445  2074417069.tif     50    105    428    186   receiver\n",
              "595   0060076186.tif     13    580    748    613      total\n",
              "3087  2063610122.tif    316     58    434     82      other"
            ]
          },
          "metadata": {
            "tags": []
          },
          "execution_count": 113
        }
      ]
    },
    {
      "cell_type": "code",
      "metadata": {
        "id": "9alX5JGein-Q",
        "colab": {
          "base_uri": "https://localhost:8080/"
        },
        "outputId": "755797ba-0e1d-41c2-aecc-eac7ab0c6060"
      },
      "source": [
        "train_df.shape"
      ],
      "execution_count": null,
      "outputs": [
        {
          "output_type": "execute_result",
          "data": {
            "text/plain": [
              "(3920, 6)"
            ]
          },
          "metadata": {
            "tags": []
          },
          "execution_count": 114
        }
      ]
    },
    {
      "cell_type": "code",
      "metadata": {
        "colab": {
          "base_uri": "https://localhost:8080/",
          "height": 35
        },
        "id": "pxvsp1fFVm4Y",
        "outputId": "d168428b-06f6-42f0-dc8c-45b17314c52f"
      },
      "source": [
        " df.sample()['image_name'].values[0]"
      ],
      "execution_count": null,
      "outputs": [
        {
          "output_type": "execute_result",
          "data": {
            "application/vnd.google.colaboratory.intrinsic+json": {
              "type": "string"
            },
            "text/plain": [
              "'0060053761.tif'"
            ]
          },
          "metadata": {
            "tags": []
          },
          "execution_count": 115
        }
      ]
    },
    {
      "cell_type": "code",
      "metadata": {
        "id": "VDkvZMPKh9z5"
      },
      "source": [
        "def show_image_with_boxes(df):\n",
        "  # pick a random image\n",
        "  filepath = \"/content/drive/MyDrive/GT_Invoices/pics/\"+df.sample()['image_name'].values[0]\n",
        "\n",
        "  # get all rows for this image\n",
        "  df2 = df[df['image_name'] == filepath.split(\"/pics/\")[-1]]\n",
        "  im = np.array(cv2.imread(filepath))\n",
        "  print(im.shape)\n",
        "  # if there's a PNG it will have alpha channel\n",
        "  #im = im[:,:,:3]\n",
        "  \n",
        "  for idx, row in df2.iterrows():\n",
        "    box = [\n",
        "      row['x_min'],\n",
        "      row['y_min'],\n",
        "      row['x_max'],\n",
        "      row['y_max'],\n",
        "    ]\n",
        "    print(box)\n",
        "    draw_box(im, box, color=(255,0,0))\n",
        "\n",
        "  plt.axis('off')\n",
        "  plt.imshow(im)\n",
        "  plt.show()"
      ],
      "execution_count": null,
      "outputs": []
    },
    {
      "cell_type": "code",
      "metadata": {
        "id": "QWYFmFVHiA_k",
        "colab": {
          "base_uri": "https://localhost:8080/",
          "height": 432
        },
        "outputId": "e8d6daba-50f9-41df-85c6-3fced4101700"
      },
      "source": [
        "show_image_with_boxes(train_df)"
      ],
      "execution_count": null,
      "outputs": [
        {
          "output_type": "stream",
          "text": [
            "(1000, 754, 3)\n",
            "[694, 811, 720, 913]\n",
            "[36, 2, 729, 32]\n",
            "[497, 692, 689, 728]\n",
            "[43, 681, 266, 718]\n",
            "[491, 84, 700, 117]\n",
            "[41, 248, 694, 643]\n",
            "[28, 873, 677, 959]\n",
            "[51, 82, 343, 133]\n",
            "[51, 151, 267, 221]\n",
            "[48, 48, 333, 79]\n"
          ],
          "name": "stdout"
        },
        {
          "output_type": "display_data",
          "data": {
            "image/png": "[encoded data removed]",
            "text/plain": [
              "<Figure size 432x288 with 1 Axes>"
            ]
          },
          "metadata": {
            "tags": [],
            "needs_background": "light"
          }
        }
      ]
    },
    {
      "cell_type": "code",
      "metadata": {
        "id": "gS2xEDdLlbwR"
      },
      "source": [
        "train_df.to_csv('../drive/MyDrive/GT_Invoices/annotations.csv', index=False, header=None)"
      ],
      "execution_count": null,
      "outputs": []
    },
    {
      "cell_type": "code",
      "metadata": {
        "colab": {
          "base_uri": "https://localhost:8080/"
        },
        "id": "WBp71zLaZo29",
        "outputId": "13156f7c-c551-4414-afb9-263ff14e96c4"
      },
      "source": [
        "classes = list(set(train_df[5]))\n",
        "print(classes)"
      ],
      "execution_count": null,
      "outputs": [
        {
          "output_type": "stream",
          "text": [
            "['receiver', 'other', 'invoice_info', 'total', 'positions', 'supplier']\n"
          ],
          "name": "stdout"
        }
      ]
    },
    {
      "cell_type": "code",
      "metadata": {
        "id": "BxFwkRmplgLe"
      },
      "source": [
        "with open('../drive/MyDrive/GT_Invoices/classes.csv', 'w') as f:\n",
        "  for i, class_name in enumerate(classes):\n",
        "    f.write(f'{class_name},{i}\\n')"
      ],
      "execution_count": null,
      "outputs": []
    },
    {
      "cell_type": "code",
      "metadata": {
        "id": "e_W0h3xzlwWs",
        "colab": {
          "base_uri": "https://localhost:8080/"
        },
        "outputId": "436c7fad-27ea-4309-886a-5c37dc19d9d9"
      },
      "source": [
        "!head ../drive/MyDrive/GT_Invoices/classes.csv\n"
      ],
      "execution_count": null,
      "outputs": [
        {
          "output_type": "stream",
          "text": [
            "receiver,0\n",
            "other,1\n",
            "invoice_info,2\n",
            "total,3\n",
            "positions,4\n",
            "supplier,5\n"
          ],
          "name": "stdout"
        }
      ]
    },
    {
      "cell_type": "code",
      "metadata": {
        "id": "XsvGtY0Ml0nu",
        "colab": {
          "base_uri": "https://localhost:8080/"
        },
        "outputId": "fa7addb1-b0f7-42f4-9491-6b64f73628a3"
      },
      "source": [
        "!head ../drive/MyDrive/GT_Invoices/annotations.csv"
      ],
      "execution_count": null,
      "outputs": [
        {
          "output_type": "stream",
          "text": [
            "2028697011.tif,487,587,671,623,total\n",
            "0001431487.tif,6,5,396,77,supplier\n",
            "2074417069.tif,50,105,428,186,receiver\n",
            "0060076186.tif,13,580,748,613,total\n",
            "2063610122.tif,316,58,434,82,other\n",
            "2071021272.tif,572,184,680,206,other\n",
            "2063162659.tif,54,507,602,746,positions\n",
            "91668026.tif,58,322,648,530,positions\n",
            "2505123539_3542.tif,102,913,725,982,other\n",
            "2083197453.tif,381,175,733,314,supplier\n"
          ],
          "name": "stdout"
        }
      ]
    },
    {
      "cell_type": "code",
      "metadata": {
        "id": "HHqFH5MvmEzy"
      },
      "source": [
        "if not os.path.exists('/content/drive/MyDrive/GT_Invoices/snapshots'):\n",
        "  os.mkdir('/content/drive/MyDrive/GT_Invoices/snapshots')"
      ],
      "execution_count": null,
      "outputs": []
    },
    {
      "cell_type": "code",
      "metadata": {
        "id": "yz3pCmOHl40v",
        "colab": {
          "base_uri": "https://localhost:8080/"
        },
        "outputId": "2782660a-b0cd-46f2-ad96-e289148484ec"
      },
      "source": [
        "PRETRAINED_MODEL = '/content/drive/MyDrive/GT_Invoices/snapshots/_pretrained_model.h5'\n",
        "\n",
        "URL_MODEL = 'https://github.com/fizyr/keras-retinanet/releases/download/0.5.1/resnet50_coco_best_v2.1.0.h5'\n",
        "urllib.request.urlretrieve(URL_MODEL, PRETRAINED_MODEL)\n",
        "\n",
        "print('Downloaded pretrained model to ' + PRETRAINED_MODEL)"
      ],
      "execution_count": null,
      "outputs": [
        {
          "output_type": "stream",
          "text": [
            "Downloaded pretrained model to /content/drive/MyDrive/GT_Invoices/snapshots/_pretrained_model.h5\n"
          ],
          "name": "stdout"
        }
      ]
    },
    {
      "cell_type": "code",
      "metadata": {
        "id": "84RuVRlamd5Y",
        "colab": {
          "base_uri": "https://localhost:8080/"
        },
        "outputId": "d9f32576-90af-4d29-fc68-f6cf6e1ca0a9"
      },
      "source": [
        "!ls "
      ],
      "execution_count": null,
      "outputs": [
        {
          "output_type": "stream",
          "text": [
            "build\t\t images\t\t  README.md\t    setup.py\n",
            "CONTRIBUTORS.md  keras_retinanet  requirements.txt  snapshots\n",
            "examples\t LICENSE\t  setup.cfg\t    tests\n"
          ],
          "name": "stdout"
        }
      ]
    },
    {
      "cell_type": "code",
      "metadata": {
        "id": "cxyJ22V9ixGk"
      },
      "source": [
        "train_df = pd.read_csv('../drive/MyDrive/GT_Invoices/pics/annotations.csv', header=None)"
      ],
      "execution_count": null,
      "outputs": []
    },
    {
      "cell_type": "code",
      "metadata": {
        "colab": {
          "base_uri": "https://localhost:8080/",
          "height": 196
        },
        "id": "vnT1xCKHjWpJ",
        "outputId": "4c8dff74-1677-46c3-a099-86bb8db3b3bb"
      },
      "source": [
        "train_df.head()"
      ],
      "execution_count": null,
      "outputs": [
        {
          "output_type": "execute_result",
          "data": {
            "text/html": [
              "<div>\n",
              "<style scoped>\n",
              "    .dataframe tbody tr th:only-of-type {\n",
              "        vertical-align: middle;\n",
              "    }\n",
              "\n",
              "    .dataframe tbody tr th {\n",
              "        vertical-align: top;\n",
              "    }\n",
              "\n",
              "    .dataframe thead th {\n",
              "        text-align: right;\n",
              "    }\n",
              "</style>\n",
              "<table border=\"1\" class=\"dataframe\">\n",
              "  <thead>\n",
              "    <tr style=\"text-align: right;\">\n",
              "      <th></th>\n",
              "      <th>0</th>\n",
              "      <th>1</th>\n",
              "      <th>2</th>\n",
              "      <th>3</th>\n",
              "      <th>4</th>\n",
              "      <th>5</th>\n",
              "    </tr>\n",
              "  </thead>\n",
              "  <tbody>\n",
              "    <tr>\n",
              "      <th>0</th>\n",
              "      <td>2028697011.tif</td>\n",
              "      <td>487</td>\n",
              "      <td>587</td>\n",
              "      <td>671</td>\n",
              "      <td>623</td>\n",
              "      <td>total</td>\n",
              "    </tr>\n",
              "    <tr>\n",
              "      <th>1</th>\n",
              "      <td>0001431487.tif</td>\n",
              "      <td>6</td>\n",
              "      <td>5</td>\n",
              "      <td>396</td>\n",
              "      <td>77</td>\n",
              "      <td>supplier</td>\n",
              "    </tr>\n",
              "    <tr>\n",
              "      <th>2</th>\n",
              "      <td>2074417069.tif</td>\n",
              "      <td>50</td>\n",
              "      <td>105</td>\n",
              "      <td>428</td>\n",
              "      <td>186</td>\n",
              "      <td>receiver</td>\n",
              "    </tr>\n",
              "    <tr>\n",
              "      <th>3</th>\n",
              "      <td>0060076186.tif</td>\n",
              "      <td>13</td>\n",
              "      <td>580</td>\n",
              "      <td>748</td>\n",
              "      <td>613</td>\n",
              "      <td>total</td>\n",
              "    </tr>\n",
              "    <tr>\n",
              "      <th>4</th>\n",
              "      <td>2063610122.tif</td>\n",
              "      <td>316</td>\n",
              "      <td>58</td>\n",
              "      <td>434</td>\n",
              "      <td>82</td>\n",
              "      <td>other</td>\n",
              "    </tr>\n",
              "  </tbody>\n",
              "</table>\n",
              "</div>"
            ],
            "text/plain": [
              "                0    1    2    3    4         5\n",
              "0  2028697011.tif  487  587  671  623     total\n",
              "1  0001431487.tif    6    5  396   77  supplier\n",
              "2  2074417069.tif   50  105  428  186  receiver\n",
              "3  0060076186.tif   13  580  748  613     total\n",
              "4  2063610122.tif  316   58  434   82     other"
            ]
          },
          "metadata": {
            "tags": []
          },
          "execution_count": 20
        }
      ]
    },
    {
      "cell_type": "code",
      "metadata": {
        "colab": {
          "base_uri": "https://localhost:8080/",
          "height": 35
        },
        "id": "QlfsquE6sLam",
        "outputId": "8856d4e6-ea5b-454f-ff50-6c0a97160462"
      },
      "source": [
        "PRETRAINED_MODEL"
      ],
      "execution_count": null,
      "outputs": [
        {
          "output_type": "execute_result",
          "data": {
            "application/vnd.google.colaboratory.intrinsic+json": {
              "type": "string"
            },
            "text/plain": [
              "'/content/drive/MyDrive/GT_Invoices/snapshots/_pretrained_model.h5'"
            ]
          },
          "metadata": {
            "tags": []
          },
          "execution_count": 41
        }
      ]
    },
    {
      "cell_type": "code",
      "metadata": {
        "id": "iv0ejkV6dfpq",
        "colab": {
          "base_uri": "https://localhost:8080/",
          "height": 228
        },
        "outputId": "86e9dca0-8187-4f1f-cd33-09b3b54c9b31"
      },
      "source": [
        "\n",
        "batch_size = 4\n",
        "num_images = len(train_df.groupby(0))\n",
        "steps_per_epoch = num_images // batch_size + 1\n",
        "steps_per_epoch"
      ],
      "execution_count": null,
      "outputs": [
        {
          "output_type": "error",
          "ename": "TypeError",
          "evalue": "ignored",
          "traceback": [
            "\u001b[0;31m---------------------------------------------------------------------------\u001b[0m",
            "\u001b[0;31mTypeError\u001b[0m                                 Traceback (most recent call last)",
            "\u001b[0;32m<ipython-input-40-e5e730c0aace>\u001b[0m in \u001b[0;36m<module>\u001b[0;34m()\u001b[0m\n\u001b[0;32m----> 1\u001b[0;31m \u001b[0mPRETRAINED_MODEL\u001b[0m \u001b[0;34m=\u001b[0m \u001b[0;34m\"../\"\u001b[0m\u001b[0;34m+\u001b[0m\u001b[0mPRETRAINED_MODEL\u001b[0m\u001b[0;34m.\u001b[0m\u001b[0msplit\u001b[0m\u001b[0;34m(\u001b[0m\u001b[0;34m\"content/\"\u001b[0m\u001b[0;34m)\u001b[0m\u001b[0;34m\u001b[0m\u001b[0;34m\u001b[0m\u001b[0m\n\u001b[0m\u001b[1;32m      2\u001b[0m \u001b[0mbatch_size\u001b[0m \u001b[0;34m=\u001b[0m \u001b[0;36m4\u001b[0m\u001b[0;34m\u001b[0m\u001b[0;34m\u001b[0m\u001b[0m\n\u001b[1;32m      3\u001b[0m \u001b[0mnum_images\u001b[0m \u001b[0;34m=\u001b[0m \u001b[0mlen\u001b[0m\u001b[0;34m(\u001b[0m\u001b[0mtrain_df\u001b[0m\u001b[0;34m.\u001b[0m\u001b[0mgroupby\u001b[0m\u001b[0;34m(\u001b[0m\u001b[0;36m0\u001b[0m\u001b[0;34m)\u001b[0m\u001b[0;34m)\u001b[0m\u001b[0;34m\u001b[0m\u001b[0;34m\u001b[0m\u001b[0m\n\u001b[1;32m      4\u001b[0m \u001b[0msteps_per_epoch\u001b[0m \u001b[0;34m=\u001b[0m \u001b[0mnum_images\u001b[0m \u001b[0;34m//\u001b[0m \u001b[0mbatch_size\u001b[0m \u001b[0;34m+\u001b[0m \u001b[0;36m1\u001b[0m\u001b[0;34m\u001b[0m\u001b[0;34m\u001b[0m\u001b[0m\n\u001b[1;32m      5\u001b[0m \u001b[0msteps_per_epoch\u001b[0m\u001b[0;34m\u001b[0m\u001b[0;34m\u001b[0m\u001b[0m\n",
            "\u001b[0;31mTypeError\u001b[0m: can only concatenate str (not \"list\") to str"
          ]
        }
      ]
    },
    {
      "cell_type": "code",
      "metadata": {
        "id": "0OZerhRdhHzx"
      },
      "source": [
        "#os.rename(\"/content/drive/MyDrive/GT_Invoices/annotations.csv\", \"/content/drive/MyDrive/GT_Invoices/pics/annotations.csv\")\n",
        "#os.rename(\"/content/drive/MyDrive/GT_Invoices/classes.csv\", \"/content/drive/MyDrive/GT_Invoices/pics/classes.csv\")"
      ],
      "execution_count": null,
      "outputs": []
    },
    {
      "cell_type": "code",
      "metadata": {
        "id": "nGNMFleMmPXi",
        "colab": {
          "base_uri": "https://localhost:8080/"
        },
        "outputId": "91d02471-0504-4ee9-f2ff-91e6cba9c922"
      },
      "source": [
        "!keras_retinanet/bin/train.py --freeze-backbone \\\n",
        "  --random-transform \\\n",
        "  --weights {PRETRAINED_MODEL} \\\n",
        "  --batch-size 8 \\\n",
        "  --steps 65 \\\n",
        "  --epochs 15 \\\n",
        "  csv ../drive/MyDrive/GT_Invoices/pics/annotations.csv ../drive/MyDrive/GT_Invoices/pics/classes.csv"
      ],
      "execution_count": null,
      "outputs": [
        {
          "output_type": "stream",
          "text": [
            "2021-05-23 10:06:53.210340: I tensorflow/stream_executor/platform/default/dso_loader.cc:49] Successfully opened dynamic library libcudart.so.11.0\n",
            "Creating model, this may take a second...\n",
            "2021-05-23 10:06:55.967650: I tensorflow/compiler/jit/xla_cpu_device.cc:41] Not creating XLA devices, tf_xla_enable_xla_devices not set\n",
            "2021-05-23 10:06:55.968671: I tensorflow/stream_executor/platform/default/dso_loader.cc:49] Successfully opened dynamic library libcuda.so.1\n",
            "2021-05-23 10:06:55.983900: I tensorflow/stream_executor/cuda/cuda_gpu_executor.cc:941] successful NUMA node read from SysFS had negative value (-1), but there must be at least one NUMA node, so returning NUMA node zero\n",
            "2021-05-23 10:06:55.984867: I tensorflow/core/common_runtime/gpu/gpu_device.cc:1720] Found device 0 with properties: \n",
            "pciBusID: 0000:00:04.0 name: Tesla P100-PCIE-16GB computeCapability: 6.0\n",
            "coreClock: 1.3285GHz coreCount: 56 deviceMemorySize: 15.90GiB deviceMemoryBandwidth: 681.88GiB/s\n",
            "2021-05-23 10:06:55.984913: I tensorflow/stream_executor/platform/default/dso_loader.cc:49] Successfully opened dynamic library libcudart.so.11.0\n",
            "2021-05-23 10:06:55.987971: I tensorflow/stream_executor/platform/default/dso_loader.cc:49] Successfully opened dynamic library libcublas.so.11\n",
            "2021-05-23 10:06:55.988037: I tensorflow/stream_executor/platform/default/dso_loader.cc:49] Successfully opened dynamic library libcublasLt.so.11\n",
            "2021-05-23 10:06:55.989748: I tensorflow/stream_executor/platform/default/dso_loader.cc:49] Successfully opened dynamic library libcufft.so.10\n",
            "2021-05-23 10:06:55.990132: I tensorflow/stream_executor/platform/default/dso_loader.cc:49] Successfully opened dynamic library libcurand.so.10\n",
            "2021-05-23 10:06:55.992123: I tensorflow/stream_executor/platform/default/dso_loader.cc:49] Successfully opened dynamic library libcusolver.so.10\n",
            "2021-05-23 10:06:55.992808: I tensorflow/stream_executor/platform/default/dso_loader.cc:49] Successfully opened dynamic library libcusparse.so.11\n",
            "2021-05-23 10:06:55.993048: I tensorflow/stream_executor/platform/default/dso_loader.cc:49] Successfully opened dynamic library libcudnn.so.8\n",
            "2021-05-23 10:06:55.993163: I tensorflow/stream_executor/cuda/cuda_gpu_executor.cc:941] successful NUMA node read from SysFS had negative value (-1), but there must be at least one NUMA node, so returning NUMA node zero\n",
            "2021-05-23 10:06:55.994153: I tensorflow/stream_executor/cuda/cuda_gpu_executor.cc:941] successful NUMA node read from SysFS had negative value (-1), but there must be at least one NUMA node, so returning NUMA node zero\n",
            "2021-05-23 10:06:55.994986: I tensorflow/core/common_runtime/gpu/gpu_device.cc:1862] Adding visible gpu devices: 0\n",
            "2021-05-23 10:06:55.995370: I tensorflow/compiler/jit/xla_gpu_device.cc:99] Not creating XLA devices, tf_xla_enable_xla_devices not set\n",
            "2021-05-23 10:06:55.995550: I tensorflow/stream_executor/cuda/cuda_gpu_executor.cc:941] successful NUMA node read from SysFS had negative value (-1), but there must be at least one NUMA node, so returning NUMA node zero\n",
            "2021-05-23 10:06:55.996417: I tensorflow/core/common_runtime/gpu/gpu_device.cc:1720] Found device 0 with properties: \n",
            "pciBusID: 0000:00:04.0 name: Tesla P100-PCIE-16GB computeCapability: 6.0\n",
            "coreClock: 1.3285GHz coreCount: 56 deviceMemorySize: 15.90GiB deviceMemoryBandwidth: 681.88GiB/s\n",
            "2021-05-23 10:06:55.996450: I tensorflow/stream_executor/platform/default/dso_loader.cc:49] Successfully opened dynamic library libcudart.so.11.0\n",
            "2021-05-23 10:06:55.996512: I tensorflow/stream_executor/platform/default/dso_loader.cc:49] Successfully opened dynamic library libcublas.so.11\n",
            "2021-05-23 10:06:55.996549: I tensorflow/stream_executor/platform/default/dso_loader.cc:49] Successfully opened dynamic library libcublasLt.so.11\n",
            "2021-05-23 10:06:55.996585: I tensorflow/stream_executor/platform/default/dso_loader.cc:49] Successfully opened dynamic library libcufft.so.10\n",
            "2021-05-23 10:06:55.996618: I tensorflow/stream_executor/platform/default/dso_loader.cc:49] Successfully opened dynamic library libcurand.so.10\n",
            "2021-05-23 10:06:55.996652: I tensorflow/stream_executor/platform/default/dso_loader.cc:49] Successfully opened dynamic library libcusolver.so.10\n",
            "2021-05-23 10:06:55.996685: I tensorflow/stream_executor/platform/default/dso_loader.cc:49] Successfully opened dynamic library libcusparse.so.11\n",
            "2021-05-23 10:06:55.996718: I tensorflow/stream_executor/platform/default/dso_loader.cc:49] Successfully opened dynamic library libcudnn.so.8\n",
            "2021-05-23 10:06:55.996802: I tensorflow/stream_executor/cuda/cuda_gpu_executor.cc:941] successful NUMA node read from SysFS had negative value (-1), but there must be at least one NUMA node, so returning NUMA node zero\n",
            "2021-05-23 10:06:55.997811: I tensorflow/stream_executor/cuda/cuda_gpu_executor.cc:941] successful NUMA node read from SysFS had negative value (-1), but there must be at least one NUMA node, so returning NUMA node zero\n",
            "2021-05-23 10:06:55.998738: I tensorflow/core/common_runtime/gpu/gpu_device.cc:1862] Adding visible gpu devices: 0\n",
            "2021-05-23 10:06:55.998794: I tensorflow/stream_executor/platform/default/dso_loader.cc:49] Successfully opened dynamic library libcudart.so.11.0\n",
            "\n",
            "2021-05-23 10:06:56.605579: I tensorflow/core/common_runtime/gpu/gpu_device.cc:1261] Device interconnect StreamExecutor with strength 1 edge matrix:\n",
            "2021-05-23 10:06:56.605644: I tensorflow/core/common_runtime/gpu/gpu_device.cc:1267]      0 \n",
            "2021-05-23 10:06:56.605666: I tensorflow/core/common_runtime/gpu/gpu_device.cc:1280] 0:   N \n",
            "2021-05-23 10:06:56.605875: I tensorflow/stream_executor/cuda/cuda_gpu_executor.cc:941] successful NUMA node read from SysFS had negative value (-1), but there must be at least one NUMA node, so returning NUMA node zero\n",
            "2021-05-23 10:06:56.606830: I tensorflow/stream_executor/cuda/cuda_gpu_executor.cc:941] successful NUMA node read from SysFS had negative value (-1), but there must be at least one NUMA node, so returning NUMA node zero\n",
            "2021-05-23 10:06:56.607641: I tensorflow/stream_executor/cuda/cuda_gpu_executor.cc:941] successful NUMA node read from SysFS had negative value (-1), but there must be at least one NUMA node, so returning NUMA node zero\n",
            "2021-05-23 10:06:56.608575: W tensorflow/core/common_runtime/gpu/gpu_bfc_allocator.cc:39] Overriding allow_growth setting because the TF_FORCE_GPU_ALLOW_GROWTH environment variable is set. Original config value was 0.\n",
            "2021-05-23 10:06:56.608631: I tensorflow/core/common_runtime/gpu/gpu_device.cc:1406] Created TensorFlow device (/job:localhost/replica:0/task:0/device:GPU:0 with 14975 MB memory) -> physical GPU (device: 0, name: Tesla P100-PCIE-16GB, pci bus id: 0000:00:04.0, compute capability: 6.0)\n",
            "WARNING:tensorflow:Skipping loading of weights for layer classification_submodel due to mismatch in shape ((3, 3, 256, 54) vs (3, 3, 256, 720)).\n",
            "WARNING:tensorflow:Skipping loading of weights for layer classification_submodel due to mismatch in shape ((54,) vs (720,)).\n",
            "Model: \"retinanet\"\n",
            "__________________________________________________________________________________________________\n",
            "Layer (type)                    Output Shape         Param #     Connected to                     \n",
            "==================================================================================================\n",
            "input_1 (InputLayer)            [(None, None, None,  0                                            \n",
            "__________________________________________________________________________________________________\n",
            "conv1 (Conv2D)                  (None, None, None, 6 9408        input_1[0][0]                    \n",
            "__________________________________________________________________________________________________\n",
            "bn_conv1 (BatchNormalization)   (None, None, None, 6 256         conv1[0][0]                      \n",
            "__________________________________________________________________________________________________\n",
            "conv1_relu (Activation)         (None, None, None, 6 0           bn_conv1[0][0]                   \n",
            "__________________________________________________________________________________________________\n",
            "pool1 (MaxPooling2D)            (None, None, None, 6 0           conv1_relu[0][0]                 \n",
            "__________________________________________________________________________________________________\n",
            "res2a_branch2a (Conv2D)         (None, None, None, 6 4096        pool1[0][0]                      \n",
            "__________________________________________________________________________________________________\n",
            "bn2a_branch2a (BatchNormalizati (None, None, None, 6 256         res2a_branch2a[0][0]             \n",
            "__________________________________________________________________________________________________\n",
            "res2a_branch2a_relu (Activation (None, None, None, 6 0           bn2a_branch2a[0][0]              \n",
            "__________________________________________________________________________________________________\n",
            "padding2a_branch2b (ZeroPadding (None, None, None, 6 0           res2a_branch2a_relu[0][0]        \n",
            "__________________________________________________________________________________________________\n",
            "res2a_branch2b (Conv2D)         (None, None, None, 6 36864       padding2a_branch2b[0][0]         \n",
            "__________________________________________________________________________________________________\n",
            "bn2a_branch2b (BatchNormalizati (None, None, None, 6 256         res2a_branch2b[0][0]             \n",
            "__________________________________________________________________________________________________\n",
            "res2a_branch2b_relu (Activation (None, None, None, 6 0           bn2a_branch2b[0][0]              \n",
            "__________________________________________________________________________________________________\n",
            "res2a_branch2c (Conv2D)         (None, None, None, 2 16384       res2a_branch2b_relu[0][0]        \n",
            "__________________________________________________________________________________________________\n",
            "res2a_branch1 (Conv2D)          (None, None, None, 2 16384       pool1[0][0]                      \n",
            "__________________________________________________________________________________________________\n",
            "bn2a_branch2c (BatchNormalizati (None, None, None, 2 1024        res2a_branch2c[0][0]             \n",
            "__________________________________________________________________________________________________\n",
            "bn2a_branch1 (BatchNormalizatio (None, None, None, 2 1024        res2a_branch1[0][0]              \n",
            "__________________________________________________________________________________________________\n",
            "res2a (Add)                     (None, None, None, 2 0           bn2a_branch2c[0][0]              \n",
            "                                                                 bn2a_branch1[0][0]               \n",
            "__________________________________________________________________________________________________\n",
            "res2a_relu (Activation)         (None, None, None, 2 0           res2a[0][0]                      \n",
            "__________________________________________________________________________________________________\n",
            "res2b_branch2a (Conv2D)         (None, None, None, 6 16384       res2a_relu[0][0]                 \n",
            "__________________________________________________________________________________________________\n",
            "bn2b_branch2a (BatchNormalizati (None, None, None, 6 256         res2b_branch2a[0][0]             \n",
            "__________________________________________________________________________________________________\n",
            "res2b_branch2a_relu (Activation (None, None, None, 6 0           bn2b_branch2a[0][0]              \n",
            "__________________________________________________________________________________________________\n",
            "padding2b_branch2b (ZeroPadding (None, None, None, 6 0           res2b_branch2a_relu[0][0]        \n",
            "__________________________________________________________________________________________________\n",
            "res2b_branch2b (Conv2D)         (None, None, None, 6 36864       padding2b_branch2b[0][0]         \n",
            "__________________________________________________________________________________________________\n",
            "bn2b_branch2b (BatchNormalizati (None, None, None, 6 256         res2b_branch2b[0][0]             \n",
            "__________________________________________________________________________________________________\n",
            "res2b_branch2b_relu (Activation (None, None, None, 6 0           bn2b_branch2b[0][0]              \n",
            "__________________________________________________________________________________________________\n",
            "res2b_branch2c (Conv2D)         (None, None, None, 2 16384       res2b_branch2b_relu[0][0]        \n",
            "__________________________________________________________________________________________________\n",
            "bn2b_branch2c (BatchNormalizati (None, None, None, 2 1024        res2b_branch2c[0][0]             \n",
            "__________________________________________________________________________________________________\n",
            "res2b (Add)                     (None, None, None, 2 0           bn2b_branch2c[0][0]              \n",
            "                                                                 res2a_relu[0][0]                 \n",
            "__________________________________________________________________________________________________\n",
            "res2b_relu (Activation)         (None, None, None, 2 0           res2b[0][0]                      \n",
            "__________________________________________________________________________________________________\n",
            "res2c_branch2a (Conv2D)         (None, None, None, 6 16384       res2b_relu[0][0]                 \n",
            "__________________________________________________________________________________________________\n",
            "bn2c_branch2a (BatchNormalizati (None, None, None, 6 256         res2c_branch2a[0][0]             \n",
            "__________________________________________________________________________________________________\n",
            "res2c_branch2a_relu (Activation (None, None, None, 6 0           bn2c_branch2a[0][0]              \n",
            "__________________________________________________________________________________________________\n",
            "padding2c_branch2b (ZeroPadding (None, None, None, 6 0           res2c_branch2a_relu[0][0]        \n",
            "__________________________________________________________________________________________________\n",
            "res2c_branch2b (Conv2D)         (None, None, None, 6 36864       padding2c_branch2b[0][0]         \n",
            "__________________________________________________________________________________________________\n",
            "bn2c_branch2b (BatchNormalizati (None, None, None, 6 256         res2c_branch2b[0][0]             \n",
            "__________________________________________________________________________________________________\n",
            "res2c_branch2b_relu (Activation (None, None, None, 6 0           bn2c_branch2b[0][0]              \n",
            "__________________________________________________________________________________________________\n",
            "res2c_branch2c (Conv2D)         (None, None, None, 2 16384       res2c_branch2b_relu[0][0]        \n",
            "__________________________________________________________________________________________________\n",
            "bn2c_branch2c (BatchNormalizati (None, None, None, 2 1024        res2c_branch2c[0][0]             \n",
            "__________________________________________________________________________________________________\n",
            "res2c (Add)                     (None, None, None, 2 0           bn2c_branch2c[0][0]              \n",
            "                                                                 res2b_relu[0][0]                 \n",
            "__________________________________________________________________________________________________\n",
            "res2c_relu (Activation)         (None, None, None, 2 0           res2c[0][0]                      \n",
            "__________________________________________________________________________________________________\n",
            "res3a_branch2a (Conv2D)         (None, None, None, 1 32768       res2c_relu[0][0]                 \n",
            "__________________________________________________________________________________________________\n",
            "bn3a_branch2a (BatchNormalizati (None, None, None, 1 512         res3a_branch2a[0][0]             \n",
            "__________________________________________________________________________________________________\n",
            "res3a_branch2a_relu (Activation (None, None, None, 1 0           bn3a_branch2a[0][0]              \n",
            "__________________________________________________________________________________________________\n",
            "padding3a_branch2b (ZeroPadding (None, None, None, 1 0           res3a_branch2a_relu[0][0]        \n",
            "__________________________________________________________________________________________________\n",
            "res3a_branch2b (Conv2D)         (None, None, None, 1 147456      padding3a_branch2b[0][0]         \n",
            "__________________________________________________________________________________________________\n",
            "bn3a_branch2b (BatchNormalizati (None, None, None, 1 512         res3a_branch2b[0][0]             \n",
            "__________________________________________________________________________________________________\n",
            "res3a_branch2b_relu (Activation (None, None, None, 1 0           bn3a_branch2b[0][0]              \n",
            "__________________________________________________________________________________________________\n",
            "res3a_branch2c (Conv2D)         (None, None, None, 5 65536       res3a_branch2b_relu[0][0]        \n",
            "__________________________________________________________________________________________________\n",
            "res3a_branch1 (Conv2D)          (None, None, None, 5 131072      res2c_relu[0][0]                 \n",
            "__________________________________________________________________________________________________\n",
            "bn3a_branch2c (BatchNormalizati (None, None, None, 5 2048        res3a_branch2c[0][0]             \n",
            "__________________________________________________________________________________________________\n",
            "bn3a_branch1 (BatchNormalizatio (None, None, None, 5 2048        res3a_branch1[0][0]              \n",
            "__________________________________________________________________________________________________\n",
            "res3a (Add)                     (None, None, None, 5 0           bn3a_branch2c[0][0]              \n",
            "                                                                 bn3a_branch1[0][0]               \n",
            "__________________________________________________________________________________________________\n",
            "res3a_relu (Activation)         (None, None, None, 5 0           res3a[0][0]                      \n",
            "__________________________________________________________________________________________________\n",
            "res3b_branch2a (Conv2D)         (None, None, None, 1 65536       res3a_relu[0][0]                 \n",
            "__________________________________________________________________________________________________\n",
            "bn3b_branch2a (BatchNormalizati (None, None, None, 1 512         res3b_branch2a[0][0]             \n",
            "__________________________________________________________________________________________________\n",
            "res3b_branch2a_relu (Activation (None, None, None, 1 0           bn3b_branch2a[0][0]              \n",
            "__________________________________________________________________________________________________\n",
            "padding3b_branch2b (ZeroPadding (None, None, None, 1 0           res3b_branch2a_relu[0][0]        \n",
            "__________________________________________________________________________________________________\n",
            "res3b_branch2b (Conv2D)         (None, None, None, 1 147456      padding3b_branch2b[0][0]         \n",
            "__________________________________________________________________________________________________\n",
            "bn3b_branch2b (BatchNormalizati (None, None, None, 1 512         res3b_branch2b[0][0]             \n",
            "__________________________________________________________________________________________________\n",
            "res3b_branch2b_relu (Activation (None, None, None, 1 0           bn3b_branch2b[0][0]              \n",
            "__________________________________________________________________________________________________\n",
            "res3b_branch2c (Conv2D)         (None, None, None, 5 65536       res3b_branch2b_relu[0][0]        \n",
            "__________________________________________________________________________________________________\n",
            "bn3b_branch2c (BatchNormalizati (None, None, None, 5 2048        res3b_branch2c[0][0]             \n",
            "__________________________________________________________________________________________________\n",
            "res3b (Add)                     (None, None, None, 5 0           bn3b_branch2c[0][0]              \n",
            "                                                                 res3a_relu[0][0]                 \n",
            "__________________________________________________________________________________________________\n",
            "res3b_relu (Activation)         (None, None, None, 5 0           res3b[0][0]                      \n",
            "__________________________________________________________________________________________________\n",
            "res3c_branch2a (Conv2D)         (None, None, None, 1 65536       res3b_relu[0][0]                 \n",
            "__________________________________________________________________________________________________\n",
            "bn3c_branch2a (BatchNormalizati (None, None, None, 1 512         res3c_branch2a[0][0]             \n",
            "__________________________________________________________________________________________________\n",
            "res3c_branch2a_relu (Activation (None, None, None, 1 0           bn3c_branch2a[0][0]              \n",
            "__________________________________________________________________________________________________\n",
            "padding3c_branch2b (ZeroPadding (None, None, None, 1 0           res3c_branch2a_relu[0][0]        \n",
            "__________________________________________________________________________________________________\n",
            "res3c_branch2b (Conv2D)         (None, None, None, 1 147456      padding3c_branch2b[0][0]         \n",
            "__________________________________________________________________________________________________\n",
            "bn3c_branch2b (BatchNormalizati (None, None, None, 1 512         res3c_branch2b[0][0]             \n",
            "__________________________________________________________________________________________________\n",
            "res3c_branch2b_relu (Activation (None, None, None, 1 0           bn3c_branch2b[0][0]              \n",
            "__________________________________________________________________________________________________\n",
            "res3c_branch2c (Conv2D)         (None, None, None, 5 65536       res3c_branch2b_relu[0][0]        \n",
            "__________________________________________________________________________________________________\n",
            "bn3c_branch2c (BatchNormalizati (None, None, None, 5 2048        res3c_branch2c[0][0]             \n",
            "__________________________________________________________________________________________________\n",
            "res3c (Add)                     (None, None, None, 5 0           bn3c_branch2c[0][0]              \n",
            "                                                                 res3b_relu[0][0]                 \n",
            "__________________________________________________________________________________________________\n",
            "res3c_relu (Activation)         (None, None, None, 5 0           res3c[0][0]                      \n",
            "__________________________________________________________________________________________________\n",
            "res3d_branch2a (Conv2D)         (None, None, None, 1 65536       res3c_relu[0][0]                 \n",
            "__________________________________________________________________________________________________\n",
            "bn3d_branch2a (BatchNormalizati (None, None, None, 1 512         res3d_branch2a[0][0]             \n",
            "__________________________________________________________________________________________________\n",
            "res3d_branch2a_relu (Activation (None, None, None, 1 0           bn3d_branch2a[0][0]              \n",
            "__________________________________________________________________________________________________\n",
            "padding3d_branch2b (ZeroPadding (None, None, None, 1 0           res3d_branch2a_relu[0][0]        \n",
            "__________________________________________________________________________________________________\n",
            "res3d_branch2b (Conv2D)         (None, None, None, 1 147456      padding3d_branch2b[0][0]         \n",
            "__________________________________________________________________________________________________\n",
            "bn3d_branch2b (BatchNormalizati (None, None, None, 1 512         res3d_branch2b[0][0]             \n",
            "__________________________________________________________________________________________________\n",
            "res3d_branch2b_relu (Activation (None, None, None, 1 0           bn3d_branch2b[0][0]              \n",
            "__________________________________________________________________________________________________\n",
            "res3d_branch2c (Conv2D)         (None, None, None, 5 65536       res3d_branch2b_relu[0][0]        \n",
            "__________________________________________________________________________________________________\n",
            "bn3d_branch2c (BatchNormalizati (None, None, None, 5 2048        res3d_branch2c[0][0]             \n",
            "__________________________________________________________________________________________________\n",
            "res3d (Add)                     (None, None, None, 5 0           bn3d_branch2c[0][0]              \n",
            "                                                                 res3c_relu[0][0]                 \n",
            "__________________________________________________________________________________________________\n",
            "res3d_relu (Activation)         (None, None, None, 5 0           res3d[0][0]                      \n",
            "__________________________________________________________________________________________________\n",
            "res4a_branch2a (Conv2D)         (None, None, None, 2 131072      res3d_relu[0][0]                 \n",
            "__________________________________________________________________________________________________\n",
            "bn4a_branch2a (BatchNormalizati (None, None, None, 2 1024        res4a_branch2a[0][0]             \n",
            "__________________________________________________________________________________________________\n",
            "res4a_branch2a_relu (Activation (None, None, None, 2 0           bn4a_branch2a[0][0]              \n",
            "__________________________________________________________________________________________________\n",
            "padding4a_branch2b (ZeroPadding (None, None, None, 2 0           res4a_branch2a_relu[0][0]        \n",
            "__________________________________________________________________________________________________\n",
            "res4a_branch2b (Conv2D)         (None, None, None, 2 589824      padding4a_branch2b[0][0]         \n",
            "__________________________________________________________________________________________________\n",
            "bn4a_branch2b (BatchNormalizati (None, None, None, 2 1024        res4a_branch2b[0][0]             \n",
            "__________________________________________________________________________________________________\n",
            "res4a_branch2b_relu (Activation (None, None, None, 2 0           bn4a_branch2b[0][0]              \n",
            "__________________________________________________________________________________________________\n",
            "res4a_branch2c (Conv2D)         (None, None, None, 1 262144      res4a_branch2b_relu[0][0]        \n",
            "__________________________________________________________________________________________________\n",
            "res4a_branch1 (Conv2D)          (None, None, None, 1 524288      res3d_relu[0][0]                 \n",
            "__________________________________________________________________________________________________\n",
            "bn4a_branch2c (BatchNormalizati (None, None, None, 1 4096        res4a_branch2c[0][0]             \n",
            "__________________________________________________________________________________________________\n",
            "bn4a_branch1 (BatchNormalizatio (None, None, None, 1 4096        res4a_branch1[0][0]              \n",
            "__________________________________________________________________________________________________\n",
            "res4a (Add)                     (None, None, None, 1 0           bn4a_branch2c[0][0]              \n",
            "                                                                 bn4a_branch1[0][0]               \n",
            "__________________________________________________________________________________________________\n",
            "res4a_relu (Activation)         (None, None, None, 1 0           res4a[0][0]                      \n",
            "__________________________________________________________________________________________________\n",
            "res4b_branch2a (Conv2D)         (None, None, None, 2 262144      res4a_relu[0][0]                 \n",
            "__________________________________________________________________________________________________\n",
            "bn4b_branch2a (BatchNormalizati (None, None, None, 2 1024        res4b_branch2a[0][0]             \n",
            "__________________________________________________________________________________________________\n",
            "res4b_branch2a_relu (Activation (None, None, None, 2 0           bn4b_branch2a[0][0]              \n",
            "__________________________________________________________________________________________________\n",
            "padding4b_branch2b (ZeroPadding (None, None, None, 2 0           res4b_branch2a_relu[0][0]        \n",
            "__________________________________________________________________________________________________\n",
            "res4b_branch2b (Conv2D)         (None, None, None, 2 589824      padding4b_branch2b[0][0]         \n",
            "__________________________________________________________________________________________________\n",
            "bn4b_branch2b (BatchNormalizati (None, None, None, 2 1024        res4b_branch2b[0][0]             \n",
            "__________________________________________________________________________________________________\n",
            "res4b_branch2b_relu (Activation (None, None, None, 2 0           bn4b_branch2b[0][0]              \n",
            "__________________________________________________________________________________________________\n",
            "res4b_branch2c (Conv2D)         (None, None, None, 1 262144      res4b_branch2b_relu[0][0]        \n",
            "__________________________________________________________________________________________________\n",
            "bn4b_branch2c (BatchNormalizati (None, None, None, 1 4096        res4b_branch2c[0][0]             \n",
            "__________________________________________________________________________________________________\n",
            "res4b (Add)                     (None, None, None, 1 0           bn4b_branch2c[0][0]              \n",
            "                                                                 res4a_relu[0][0]                 \n",
            "__________________________________________________________________________________________________\n",
            "res4b_relu (Activation)         (None, None, None, 1 0           res4b[0][0]                      \n",
            "__________________________________________________________________________________________________\n",
            "res4c_branch2a (Conv2D)         (None, None, None, 2 262144      res4b_relu[0][0]                 \n",
            "__________________________________________________________________________________________________\n",
            "bn4c_branch2a (BatchNormalizati (None, None, None, 2 1024        res4c_branch2a[0][0]             \n",
            "__________________________________________________________________________________________________\n",
            "res4c_branch2a_relu (Activation (None, None, None, 2 0           bn4c_branch2a[0][0]              \n",
            "__________________________________________________________________________________________________\n",
            "padding4c_branch2b (ZeroPadding (None, None, None, 2 0           res4c_branch2a_relu[0][0]        \n",
            "__________________________________________________________________________________________________\n",
            "res4c_branch2b (Conv2D)         (None, None, None, 2 589824      padding4c_branch2b[0][0]         \n",
            "__________________________________________________________________________________________________\n",
            "bn4c_branch2b (BatchNormalizati (None, None, None, 2 1024        res4c_branch2b[0][0]             \n",
            "__________________________________________________________________________________________________\n",
            "res4c_branch2b_relu (Activation (None, None, None, 2 0           bn4c_branch2b[0][0]              \n",
            "__________________________________________________________________________________________________\n",
            "res4c_branch2c (Conv2D)         (None, None, None, 1 262144      res4c_branch2b_relu[0][0]        \n",
            "__________________________________________________________________________________________________\n",
            "bn4c_branch2c (BatchNormalizati (None, None, None, 1 4096        res4c_branch2c[0][0]             \n",
            "__________________________________________________________________________________________________\n",
            "res4c (Add)                     (None, None, None, 1 0           bn4c_branch2c[0][0]              \n",
            "                                                                 res4b_relu[0][0]                 \n",
            "__________________________________________________________________________________________________\n",
            "res4c_relu (Activation)         (None, None, None, 1 0           res4c[0][0]                      \n",
            "__________________________________________________________________________________________________\n",
            "res4d_branch2a (Conv2D)         (None, None, None, 2 262144      res4c_relu[0][0]                 \n",
            "__________________________________________________________________________________________________\n",
            "bn4d_branch2a (BatchNormalizati (None, None, None, 2 1024        res4d_branch2a[0][0]             \n",
            "__________________________________________________________________________________________________\n",
            "res4d_branch2a_relu (Activation (None, None, None, 2 0           bn4d_branch2a[0][0]              \n",
            "__________________________________________________________________________________________________\n",
            "padding4d_branch2b (ZeroPadding (None, None, None, 2 0           res4d_branch2a_relu[0][0]        \n",
            "__________________________________________________________________________________________________\n",
            "res4d_branch2b (Conv2D)         (None, None, None, 2 589824      padding4d_branch2b[0][0]         \n",
            "__________________________________________________________________________________________________\n",
            "bn4d_branch2b (BatchNormalizati (None, None, None, 2 1024        res4d_branch2b[0][0]             \n",
            "__________________________________________________________________________________________________\n",
            "res4d_branch2b_relu (Activation (None, None, None, 2 0           bn4d_branch2b[0][0]              \n",
            "__________________________________________________________________________________________________\n",
            "res4d_branch2c (Conv2D)         (None, None, None, 1 262144      res4d_branch2b_relu[0][0]        \n",
            "__________________________________________________________________________________________________\n",
            "bn4d_branch2c (BatchNormalizati (None, None, None, 1 4096        res4d_branch2c[0][0]             \n",
            "__________________________________________________________________________________________________\n",
            "res4d (Add)                     (None, None, None, 1 0           bn4d_branch2c[0][0]              \n",
            "                                                                 res4c_relu[0][0]                 \n",
            "__________________________________________________________________________________________________\n",
            "res4d_relu (Activation)         (None, None, None, 1 0           res4d[0][0]                      \n",
            "__________________________________________________________________________________________________\n",
            "res4e_branch2a (Conv2D)         (None, None, None, 2 262144      res4d_relu[0][0]                 \n",
            "__________________________________________________________________________________________________\n",
            "bn4e_branch2a (BatchNormalizati (None, None, None, 2 1024        res4e_branch2a[0][0]             \n",
            "__________________________________________________________________________________________________\n",
            "res4e_branch2a_relu (Activation (None, None, None, 2 0           bn4e_branch2a[0][0]              \n",
            "__________________________________________________________________________________________________\n",
            "padding4e_branch2b (ZeroPadding (None, None, None, 2 0           res4e_branch2a_relu[0][0]        \n",
            "__________________________________________________________________________________________________\n",
            "res4e_branch2b (Conv2D)         (None, None, None, 2 589824      padding4e_branch2b[0][0]         \n",
            "__________________________________________________________________________________________________\n",
            "bn4e_branch2b (BatchNormalizati (None, None, None, 2 1024        res4e_branch2b[0][0]             \n",
            "__________________________________________________________________________________________________\n",
            "res4e_branch2b_relu (Activation (None, None, None, 2 0           bn4e_branch2b[0][0]              \n",
            "__________________________________________________________________________________________________\n",
            "res4e_branch2c (Conv2D)         (None, None, None, 1 262144      res4e_branch2b_relu[0][0]        \n",
            "__________________________________________________________________________________________________\n",
            "bn4e_branch2c (BatchNormalizati (None, None, None, 1 4096        res4e_branch2c[0][0]             \n",
            "__________________________________________________________________________________________________\n",
            "res4e (Add)                     (None, None, None, 1 0           bn4e_branch2c[0][0]              \n",
            "                                                                 res4d_relu[0][0]                 \n",
            "__________________________________________________________________________________________________\n",
            "res4e_relu (Activation)         (None, None, None, 1 0           res4e[0][0]                      \n",
            "__________________________________________________________________________________________________\n",
            "res4f_branch2a (Conv2D)         (None, None, None, 2 262144      res4e_relu[0][0]                 \n",
            "__________________________________________________________________________________________________\n",
            "bn4f_branch2a (BatchNormalizati (None, None, None, 2 1024        res4f_branch2a[0][0]             \n",
            "__________________________________________________________________________________________________\n",
            "res4f_branch2a_relu (Activation (None, None, None, 2 0           bn4f_branch2a[0][0]              \n",
            "__________________________________________________________________________________________________\n",
            "padding4f_branch2b (ZeroPadding (None, None, None, 2 0           res4f_branch2a_relu[0][0]        \n",
            "__________________________________________________________________________________________________\n",
            "res4f_branch2b (Conv2D)         (None, None, None, 2 589824      padding4f_branch2b[0][0]         \n",
            "__________________________________________________________________________________________________\n",
            "bn4f_branch2b (BatchNormalizati (None, None, None, 2 1024        res4f_branch2b[0][0]             \n",
            "__________________________________________________________________________________________________\n",
            "res4f_branch2b_relu (Activation (None, None, None, 2 0           bn4f_branch2b[0][0]              \n",
            "__________________________________________________________________________________________________\n",
            "res4f_branch2c (Conv2D)         (None, None, None, 1 262144      res4f_branch2b_relu[0][0]        \n",
            "__________________________________________________________________________________________________\n",
            "bn4f_branch2c (BatchNormalizati (None, None, None, 1 4096        res4f_branch2c[0][0]             \n",
            "__________________________________________________________________________________________________\n",
            "res4f (Add)                     (None, None, None, 1 0           bn4f_branch2c[0][0]              \n",
            "                                                                 res4e_relu[0][0]                 \n",
            "__________________________________________________________________________________________________\n",
            "res4f_relu (Activation)         (None, None, None, 1 0           res4f[0][0]                      \n",
            "__________________________________________________________________________________________________\n",
            "res5a_branch2a (Conv2D)         (None, None, None, 5 524288      res4f_relu[0][0]                 \n",
            "__________________________________________________________________________________________________\n",
            "bn5a_branch2a (BatchNormalizati (None, None, None, 5 2048        res5a_branch2a[0][0]             \n",
            "__________________________________________________________________________________________________\n",
            "res5a_branch2a_relu (Activation (None, None, None, 5 0           bn5a_branch2a[0][0]              \n",
            "__________________________________________________________________________________________________\n",
            "padding5a_branch2b (ZeroPadding (None, None, None, 5 0           res5a_branch2a_relu[0][0]        \n",
            "__________________________________________________________________________________________________\n",
            "res5a_branch2b (Conv2D)         (None, None, None, 5 2359296     padding5a_branch2b[0][0]         \n",
            "__________________________________________________________________________________________________\n",
            "bn5a_branch2b (BatchNormalizati (None, None, None, 5 2048        res5a_branch2b[0][0]             \n",
            "__________________________________________________________________________________________________\n",
            "res5a_branch2b_relu (Activation (None, None, None, 5 0           bn5a_branch2b[0][0]              \n",
            "__________________________________________________________________________________________________\n",
            "res5a_branch2c (Conv2D)         (None, None, None, 2 1048576     res5a_branch2b_relu[0][0]        \n",
            "__________________________________________________________________________________________________\n",
            "res5a_branch1 (Conv2D)          (None, None, None, 2 2097152     res4f_relu[0][0]                 \n",
            "__________________________________________________________________________________________________\n",
            "bn5a_branch2c (BatchNormalizati (None, None, None, 2 8192        res5a_branch2c[0][0]             \n",
            "__________________________________________________________________________________________________\n",
            "bn5a_branch1 (BatchNormalizatio (None, None, None, 2 8192        res5a_branch1[0][0]              \n",
            "__________________________________________________________________________________________________\n",
            "res5a (Add)                     (None, None, None, 2 0           bn5a_branch2c[0][0]              \n",
            "                                                                 bn5a_branch1[0][0]               \n",
            "__________________________________________________________________________________________________\n",
            "res5a_relu (Activation)         (None, None, None, 2 0           res5a[0][0]                      \n",
            "__________________________________________________________________________________________________\n",
            "res5b_branch2a (Conv2D)         (None, None, None, 5 1048576     res5a_relu[0][0]                 \n",
            "__________________________________________________________________________________________________\n",
            "bn5b_branch2a (BatchNormalizati (None, None, None, 5 2048        res5b_branch2a[0][0]             \n",
            "__________________________________________________________________________________________________\n",
            "res5b_branch2a_relu (Activation (None, None, None, 5 0           bn5b_branch2a[0][0]              \n",
            "__________________________________________________________________________________________________\n",
            "padding5b_branch2b (ZeroPadding (None, None, None, 5 0           res5b_branch2a_relu[0][0]        \n",
            "__________________________________________________________________________________________________\n",
            "res5b_branch2b (Conv2D)         (None, None, None, 5 2359296     padding5b_branch2b[0][0]         \n",
            "__________________________________________________________________________________________________\n",
            "bn5b_branch2b (BatchNormalizati (None, None, None, 5 2048        res5b_branch2b[0][0]             \n",
            "__________________________________________________________________________________________________\n",
            "res5b_branch2b_relu (Activation (None, None, None, 5 0           bn5b_branch2b[0][0]              \n",
            "__________________________________________________________________________________________________\n",
            "res5b_branch2c (Conv2D)         (None, None, None, 2 1048576     res5b_branch2b_relu[0][0]        \n",
            "__________________________________________________________________________________________________\n",
            "bn5b_branch2c (BatchNormalizati (None, None, None, 2 8192        res5b_branch2c[0][0]             \n",
            "__________________________________________________________________________________________________\n",
            "res5b (Add)                     (None, None, None, 2 0           bn5b_branch2c[0][0]              \n",
            "                                                                 res5a_relu[0][0]                 \n",
            "__________________________________________________________________________________________________\n",
            "res5b_relu (Activation)         (None, None, None, 2 0           res5b[0][0]                      \n",
            "__________________________________________________________________________________________________\n",
            "res5c_branch2a (Conv2D)         (None, None, None, 5 1048576     res5b_relu[0][0]                 \n",
            "__________________________________________________________________________________________________\n",
            "bn5c_branch2a (BatchNormalizati (None, None, None, 5 2048        res5c_branch2a[0][0]             \n",
            "__________________________________________________________________________________________________\n",
            "res5c_branch2a_relu (Activation (None, None, None, 5 0           bn5c_branch2a[0][0]              \n",
            "__________________________________________________________________________________________________\n",
            "padding5c_branch2b (ZeroPadding (None, None, None, 5 0           res5c_branch2a_relu[0][0]        \n",
            "__________________________________________________________________________________________________\n",
            "res5c_branch2b (Conv2D)         (None, None, None, 5 2359296     padding5c_branch2b[0][0]         \n",
            "__________________________________________________________________________________________________\n",
            "bn5c_branch2b (BatchNormalizati (None, None, None, 5 2048        res5c_branch2b[0][0]             \n",
            "__________________________________________________________________________________________________\n",
            "res5c_branch2b_relu (Activation (None, None, None, 5 0           bn5c_branch2b[0][0]              \n",
            "__________________________________________________________________________________________________\n",
            "res5c_branch2c (Conv2D)         (None, None, None, 2 1048576     res5c_branch2b_relu[0][0]        \n",
            "__________________________________________________________________________________________________\n",
            "bn5c_branch2c (BatchNormalizati (None, None, None, 2 8192        res5c_branch2c[0][0]             \n",
            "__________________________________________________________________________________________________\n",
            "res5c (Add)                     (None, None, None, 2 0           bn5c_branch2c[0][0]              \n",
            "                                                                 res5b_relu[0][0]                 \n",
            "__________________________________________________________________________________________________\n",
            "res5c_relu (Activation)         (None, None, None, 2 0           res5c[0][0]                      \n",
            "__________________________________________________________________________________________________\n",
            "C5_reduced (Conv2D)             (None, None, None, 2 524544      res5c_relu[0][0]                 \n",
            "__________________________________________________________________________________________________\n",
            "P5_upsampled (UpsampleLike)     (None, None, None, 2 0           C5_reduced[0][0]                 \n",
            "                                                                 res4f_relu[0][0]                 \n",
            "__________________________________________________________________________________________________\n",
            "C4_reduced (Conv2D)             (None, None, None, 2 262400      res4f_relu[0][0]                 \n",
            "__________________________________________________________________________________________________\n",
            "P4_merged (Add)                 (None, None, None, 2 0           P5_upsampled[0][0]               \n",
            "                                                                 C4_reduced[0][0]                 \n",
            "__________________________________________________________________________________________________\n",
            "P4_upsampled (UpsampleLike)     (None, None, None, 2 0           P4_merged[0][0]                  \n",
            "                                                                 res3d_relu[0][0]                 \n",
            "__________________________________________________________________________________________________\n",
            "C3_reduced (Conv2D)             (None, None, None, 2 131328      res3d_relu[0][0]                 \n",
            "__________________________________________________________________________________________________\n",
            "P6 (Conv2D)                     (None, None, None, 2 4718848     res5c_relu[0][0]                 \n",
            "__________________________________________________________________________________________________\n",
            "P3_merged (Add)                 (None, None, None, 2 0           P4_upsampled[0][0]               \n",
            "                                                                 C3_reduced[0][0]                 \n",
            "__________________________________________________________________________________________________\n",
            "C6_relu (Activation)            (None, None, None, 2 0           P6[0][0]                         \n",
            "__________________________________________________________________________________________________\n",
            "P3 (Conv2D)                     (None, None, None, 2 590080      P3_merged[0][0]                  \n",
            "__________________________________________________________________________________________________\n",
            "P4 (Conv2D)                     (None, None, None, 2 590080      P4_merged[0][0]                  \n",
            "__________________________________________________________________________________________________\n",
            "P5 (Conv2D)                     (None, None, None, 2 590080      C5_reduced[0][0]                 \n",
            "__________________________________________________________________________________________________\n",
            "P7 (Conv2D)                     (None, None, None, 2 590080      C6_relu[0][0]                    \n",
            "__________________________________________________________________________________________________\n",
            "regression_submodel (Functional (None, None, 4)      2443300     P3[0][0]                         \n",
            "                                                                 P4[0][0]                         \n",
            "                                                                 P5[0][0]                         \n",
            "                                                                 P6[0][0]                         \n",
            "                                                                 P7[0][0]                         \n",
            "__________________________________________________________________________________________________\n",
            "classification_submodel (Functi (None, None, 6)      2484790     P3[0][0]                         \n",
            "                                                                 P4[0][0]                         \n",
            "                                                                 P5[0][0]                         \n",
            "                                                                 P6[0][0]                         \n",
            "                                                                 P7[0][0]                         \n",
            "__________________________________________________________________________________________________\n",
            "regression (Concatenate)        (None, None, 4)      0           regression_submodel[0][0]        \n",
            "                                                                 regression_submodel[1][0]        \n",
            "                                                                 regression_submodel[2][0]        \n",
            "                                                                 regression_submodel[3][0]        \n",
            "                                                                 regression_submodel[4][0]        \n",
            "__________________________________________________________________________________________________\n",
            "classification (Concatenate)    (None, None, 6)      0           classification_submodel[0][0]    \n",
            "                                                                 classification_submodel[1][0]    \n",
            "                                                                 classification_submodel[2][0]    \n",
            "                                                                 classification_submodel[3][0]    \n",
            "                                                                 classification_submodel[4][0]    \n",
            "==================================================================================================\n",
            "Total params: 36,486,682\n",
            "Trainable params: 12,925,530\n",
            "Non-trainable params: 23,561,152\n",
            "__________________________________________________________________________________________________\n",
            "None\n",
            "/usr/local/lib/python3.7/dist-packages/tensorflow/python/keras/engine/training.py:1844: UserWarning: `Model.fit_generator` is deprecated and will be removed in a future version. Please use `Model.fit`, which supports generators.\n",
            "  warnings.warn('`Model.fit_generator` is deprecated and '\n",
            "2021-05-23 10:07:02.218854: I tensorflow/compiler/mlir/mlir_graph_optimization_pass.cc:116] None of the MLIR optimization passes are enabled (registered 2)\n",
            "2021-05-23 10:07:02.219660: I tensorflow/core/platform/profile_utils/cpu_utils.cc:112] CPU Frequency: 2299995000 Hz\n",
            "Epoch 1/15\n",
            "2021-05-23 10:07:10.009861: I tensorflow/stream_executor/platform/default/dso_loader.cc:49] Successfully opened dynamic library libcudnn.so.8\n",
            "\n",
            "\n",
            "\n",
            "\n",
            "2021-05-23 10:07:37.281577: I tensorflow/stream_executor/platform/default/dso_loader.cc:49] Successfully opened dynamic library libcublas.so.11\n",
            "2021-05-23 10:07:39.435200: I tensorflow/stream_executor/platform/default/dso_loader.cc:49] Successfully opened dynamic library libcublasLt.so.11\n",
            "65/65 [==============================] - 145s 2s/step - loss: 3.5443 - regression_loss: 2.3893 - classification_loss: 1.1550\n",
            "\n",
            "Epoch 00001: saving model to ./snapshots/resnet50_csv_01.h5\n",
            "Epoch 2/15\n",
            "65/65 [==============================] - 100s 2s/step - loss: 2.9532 - regression_loss: 2.0435 - classification_loss: 0.9096\n",
            "\n",
            "Epoch 00002: saving model to ./snapshots/resnet50_csv_02.h5\n",
            "Epoch 3/15\n",
            "65/65 [==============================] - 101s 2s/step - loss: 2.6456 - regression_loss: 1.9502 - classification_loss: 0.6954\n",
            "\n",
            "Epoch 00003: saving model to ./snapshots/resnet50_csv_03.h5\n",
            "Epoch 4/15\n",
            "65/65 [==============================] - 101s 2s/step - loss: 2.5152 - regression_loss: 1.8776 - classification_loss: 0.6375\n",
            "\n",
            "Epoch 00004: saving model to ./snapshots/resnet50_csv_04.h5\n",
            "Epoch 5/15\n",
            "65/65 [==============================] - 101s 2s/step - loss: 2.4168 - regression_loss: 1.8005 - classification_loss: 0.6163\n",
            "\n",
            "Epoch 00005: saving model to ./snapshots/resnet50_csv_05.h5\n",
            "Epoch 6/15\n",
            "65/65 [==============================] - 101s 2s/step - loss: 2.3431 - regression_loss: 1.7474 - classification_loss: 0.5957\n",
            "\n",
            "Epoch 00006: saving model to ./snapshots/resnet50_csv_06.h5\n",
            "Epoch 7/15\n",
            "65/65 [==============================] - 102s 2s/step - loss: 2.2679 - regression_loss: 1.6967 - classification_loss: 0.5712\n",
            "\n",
            "Epoch 00007: saving model to ./snapshots/resnet50_csv_07.h5\n",
            "Epoch 8/15\n",
            "65/65 [==============================] - 102s 2s/step - loss: 2.2860 - regression_loss: 1.7260 - classification_loss: 0.5600\n",
            "\n",
            "Epoch 00008: saving model to ./snapshots/resnet50_csv_08.h5\n",
            "Epoch 9/15\n",
            "65/65 [==============================] - 102s 2s/step - loss: 2.2528 - regression_loss: 1.7086 - classification_loss: 0.5442\n",
            "\n",
            "Epoch 00009: saving model to ./snapshots/resnet50_csv_09.h5\n",
            "Epoch 10/15\n",
            "65/65 [==============================] - 102s 2s/step - loss: 2.2209 - regression_loss: 1.6899 - classification_loss: 0.5311\n",
            "\n",
            "Epoch 00010: saving model to ./snapshots/resnet50_csv_10.h5\n",
            "Epoch 11/15\n",
            "65/65 [==============================] - 102s 2s/step - loss: 2.2303 - regression_loss: 1.7010 - classification_loss: 0.5293\n",
            "\n",
            "Epoch 00011: saving model to ./snapshots/resnet50_csv_11.h5\n",
            "Epoch 12/15\n",
            "65/65 [==============================] - 103s 2s/step - loss: 2.1615 - regression_loss: 1.6457 - classification_loss: 0.5158\n",
            "\n",
            "Epoch 00012: saving model to ./snapshots/resnet50_csv_12.h5\n",
            "Epoch 13/15\n",
            "65/65 [==============================] - 104s 2s/step - loss: 2.1475 - regression_loss: 1.6405 - classification_loss: 0.5070\n",
            "\n",
            "Epoch 00013: saving model to ./snapshots/resnet50_csv_13.h5\n",
            "Epoch 14/15\n",
            "65/65 [==============================] - 105s 2s/step - loss: 2.1702 - regression_loss: 1.6584 - classification_loss: 0.5118\n",
            "\n",
            "Epoch 00014: saving model to ./snapshots/resnet50_csv_14.h5\n",
            "Epoch 15/15\n",
            "65/65 [==============================] - 105s 2s/step - loss: 2.1937 - regression_loss: 1.6884 - classification_loss: 0.5053\n",
            "\n",
            "Epoch 00015: saving model to ./snapshots/resnet50_csv_15.h5\n"
          ],
          "name": "stdout"
        }
      ]
    },
    {
      "cell_type": "code",
      "metadata": {
        "colab": {
          "base_uri": "https://localhost:8080/"
        },
        "id": "BpNGpzrIdPBo",
        "outputId": "1c76ca3d-74e5-4c7c-b2f0-7359917b8a7d"
      },
      "source": [
        "for i in df.index:\n",
        "  if df['y_min'][i]>df['y_max'][i]:\n",
        "   print(i)"
      ],
      "execution_count": null,
      "outputs": [
        {
          "output_type": "stream",
          "text": [
            "2419\n"
          ],
          "name": "stdout"
        }
      ]
    },
    {
      "cell_type": "code",
      "metadata": {
        "colab": {
          "base_uri": "https://localhost:8080/",
          "height": 77
        },
        "id": "3ISYstUmeLdG",
        "outputId": "fd6a7274-2b1e-49df-8cab-ed987eb3956d"
      },
      "source": [
        "df.loc[[2419]]"
      ],
      "execution_count": null,
      "outputs": [
        {
          "output_type": "execute_result",
          "data": {
            "text/html": [
              "<div>\n",
              "<style scoped>\n",
              "    .dataframe tbody tr th:only-of-type {\n",
              "        vertical-align: middle;\n",
              "    }\n",
              "\n",
              "    .dataframe tbody tr th {\n",
              "        vertical-align: top;\n",
              "    }\n",
              "\n",
              "    .dataframe thead th {\n",
              "        text-align: right;\n",
              "    }\n",
              "</style>\n",
              "<table border=\"1\" class=\"dataframe\">\n",
              "  <thead>\n",
              "    <tr style=\"text-align: right;\">\n",
              "      <th></th>\n",
              "      <th>image_name</th>\n",
              "      <th>x_min</th>\n",
              "      <th>y_min</th>\n",
              "      <th>x_max</th>\n",
              "      <th>y_max</th>\n",
              "      <th>class_name</th>\n",
              "    </tr>\n",
              "  </thead>\n",
              "  <tbody>\n",
              "    <tr>\n",
              "      <th>2419</th>\n",
              "      <td>2028729078.tif</td>\n",
              "      <td>57</td>\n",
              "      <td>660</td>\n",
              "      <td>695</td>\n",
              "      <td>373</td>\n",
              "      <td>positions</td>\n",
              "    </tr>\n",
              "  </tbody>\n",
              "</table>\n",
              "</div>"
            ],
            "text/plain": [
              "          image_name  x_min  y_min  x_max  y_max class_name\n",
              "2419  2028729078.tif     57    660    695    373  positions"
            ]
          },
          "metadata": {
            "tags": []
          },
          "execution_count": 105
        }
      ]
    },
    {
      "cell_type": "code",
      "metadata": {
        "id": "f4xfHcHpAqsx",
        "colab": {
          "base_uri": "https://localhost:8080/"
        },
        "outputId": "eaa05027-dec5-435b-bac8-6ce80e513a89"
      },
      "source": [
        "!ls snapshots"
      ],
      "execution_count": null,
      "outputs": [
        {
          "output_type": "stream",
          "text": [
            "resnet50_csv_01.h5  resnet50_csv_05.h5\tresnet50_csv_09.h5  resnet50_csv_13.h5\n",
            "resnet50_csv_02.h5  resnet50_csv_06.h5\tresnet50_csv_10.h5  resnet50_csv_14.h5\n",
            "resnet50_csv_03.h5  resnet50_csv_07.h5\tresnet50_csv_11.h5  resnet50_csv_15.h5\n",
            "resnet50_csv_04.h5  resnet50_csv_08.h5\tresnet50_csv_12.h5\n"
          ],
          "name": "stdout"
        }
      ]
    },
    {
      "cell_type": "code",
      "metadata": {
        "colab": {
          "base_uri": "https://localhost:8080/",
          "height": 35
        },
        "id": "yFVyP3RSygUK",
        "outputId": "056ac6b7-03aa-4024-f5e2-f29a1cc5e198"
      },
      "source": [
        "pwd\n"
      ],
      "execution_count": null,
      "outputs": [
        {
          "output_type": "execute_result",
          "data": {
            "application/vnd.google.colaboratory.intrinsic+json": {
              "type": "string"
            },
            "text/plain": [
              "'/content/keras-retinanet'"
            ]
          },
          "metadata": {
            "tags": []
          },
          "execution_count": 44
        }
      ]
    },
    {
      "cell_type": "code",
      "metadata": {
        "colab": {
          "base_uri": "https://localhost:8080/"
        },
        "id": "8ruylate0H4b",
        "outputId": "ca72bd59-dc1b-4267-ace0-efc1d899d14f"
      },
      "source": [
        "os.listdir('../drive/MyDrive/GT_Invoices/')"
      ],
      "execution_count": null,
      "outputs": [
        {
          "output_type": "execute_result",
          "data": {
            "text/plain": [
              "['00043445_00043449_ocr.xml',\n",
              " '00920343_ocr.xml',\n",
              " '00920576_ocr.xml',\n",
              " '00555341_ocr.xml',\n",
              " '0000223278_ocr.xml',\n",
              " '0001136521_ocr.xml',\n",
              " '0001144288_ocr.xml',\n",
              " '01788629_ocr.xml',\n",
              " '0001431487_ocr.xml',\n",
              " '00922240_ocr.xml',\n",
              " '00921466_ocr.xml',\n",
              " '03724950_03724951_ocr.xml',\n",
              " '0001139626_ocr.xml',\n",
              " '0001139716_ocr.xml',\n",
              " '10399225_ocr.xml',\n",
              " '03725237_ocr.xml',\n",
              " '11230479_ocr.xml',\n",
              " '11238596_ocr.xml',\n",
              " '11002591_ocr.xml',\n",
              " '11237682_11237683_ocr.xml',\n",
              " '11237693_11237694_ocr.xml',\n",
              " '11237705_ocr.xml',\n",
              " '11002339_ocr.xml',\n",
              " '11230046_ocr.xml',\n",
              " '11225665_ocr.xml',\n",
              " '11024285_ocr.xml',\n",
              " '11315881_ocr.xml',\n",
              " '11320981_ocr.xml',\n",
              " '11315936_ocr.xml',\n",
              " '11315942_ocr.xml',\n",
              " '11295049_ocr.xml',\n",
              " '11315798_ocr.xml',\n",
              " '50120516-0516_ocr.xml',\n",
              " '0013040651_ocr.xml',\n",
              " '0013043193_ocr.xml',\n",
              " '0013046347_ocr.xml',\n",
              " '0011500947_ocr.xml',\n",
              " '0011899826_ocr.xml',\n",
              " '0013404965_ocr.xml',\n",
              " '0060027362_ocr.xml',\n",
              " '0060027402_ocr.xml',\n",
              " '0060026253_ocr.xml',\n",
              " '0060026250_ocr.xml',\n",
              " '0060026293_ocr.xml',\n",
              " '0060027384_ocr.xml',\n",
              " '0060027425_ocr.xml',\n",
              " '0060027768_ocr.xml',\n",
              " '0060031745_ocr.xml',\n",
              " '0060031691_ocr.xml',\n",
              " '0060032065_ocr.xml',\n",
              " '0060027746_ocr.xml',\n",
              " '0060027778_ocr.xml',\n",
              " '0060031680_ocr.xml',\n",
              " '0060059322_ocr.xml',\n",
              " '0060060466_ocr.xml',\n",
              " '0060053761_ocr.xml',\n",
              " '0060047831_ocr.xml',\n",
              " '0060053785_ocr.xml',\n",
              " '0060060480_ocr.xml',\n",
              " '0060060439_ocr.xml',\n",
              " '0060075996_ocr.xml',\n",
              " '0060063491_ocr.xml',\n",
              " '0060076160_ocr.xml',\n",
              " '0060060805_ocr.xml',\n",
              " '0060068899_ocr.xml',\n",
              " '0060068160_ocr.xml',\n",
              " '0060063704_ocr.xml',\n",
              " '0060088007_ocr.xml',\n",
              " '0060087309_ocr.xml',\n",
              " '0060076186_ocr.xml',\n",
              " '0060076945_ocr.xml',\n",
              " '0060087268_ocr.xml',\n",
              " '0060085465_ocr.xml',\n",
              " '0060076899_ocr.xml',\n",
              " '0060076201_ocr.xml',\n",
              " '0060094822_ocr.xml',\n",
              " '0060099385_ocr.xml',\n",
              " '0060091768_ocr.xml',\n",
              " '0060094811_ocr.xml',\n",
              " '0060181312_ocr.xml',\n",
              " '0060088183_ocr.xml',\n",
              " '0060173965_ocr.xml',\n",
              " '0060093870_ocr.xml',\n",
              " '0060095738_ocr.xml',\n",
              " '0060207567_ocr.xml',\n",
              " '0071033192_ocr.xml',\n",
              " '0060203682_ocr.xml',\n",
              " '0060204458_ocr.xml',\n",
              " '0060201575_ocr.xml',\n",
              " '0071005934_ocr.xml',\n",
              " '0060301501_ocr.xml',\n",
              " '0060206240_ocr.xml',\n",
              " '80211567_ocr.xml',\n",
              " '80233716_ocr.xml',\n",
              " '80233633_ocr.xml',\n",
              " '81615715_ocr.xml',\n",
              " '80233719_ocr.xml',\n",
              " '80211548_ocr.xml',\n",
              " '80233696_ocr.xml',\n",
              " '80702654_ocr.xml',\n",
              " '82867969_ocr.xml',\n",
              " '82898533_ocr.xml',\n",
              " '83096187_ocr.xml',\n",
              " '83096148_ocr.xml',\n",
              " '82898524_ocr.xml',\n",
              " '83312574_2575_ocr.xml',\n",
              " '82898529_ocr.xml',\n",
              " '82898406_ocr.xml',\n",
              " '83553577_3578_ocr.xml',\n",
              " '83553545_ocr.xml',\n",
              " '83553533_ocr.xml',\n",
              " '83542431_ocr.xml',\n",
              " '83542513_ocr.xml',\n",
              " '83542445_2446_ocr.xml',\n",
              " '83544771_ocr.xml',\n",
              " '83565599_ocr.xml',\n",
              " '83565318_ocr.xml',\n",
              " '83645391_ocr.xml',\n",
              " '83554921_ocr.xml',\n",
              " '83962761_ocr.xml',\n",
              " '83565418_ocr.xml',\n",
              " '83644925_ocr.xml',\n",
              " '83565210_5211_ocr.xml',\n",
              " '86087462_ocr.xml',\n",
              " '86087318_7321_ocr.xml',\n",
              " '86086825_6826_ocr.xml',\n",
              " '86087420_7422_ocr.xml',\n",
              " '86087013_ocr.xml',\n",
              " '86018092_ocr.xml',\n",
              " '86087317_ocr.xml',\n",
              " '86618995_ocr.xml',\n",
              " '86463030_ocr.xml',\n",
              " '86087495_7496_ocr.xml',\n",
              " '87021931_ocr.xml',\n",
              " '86619006_ocr.xml',\n",
              " '86619053_ocr.xml',\n",
              " '86462566_ocr.xml',\n",
              " '86462803_ocr.xml',\n",
              " '86462933_ocr.xml',\n",
              " '87147646_ocr.xml',\n",
              " '87147801_ocr.xml',\n",
              " '87803126_ocr.xml',\n",
              " '87104311_ocr.xml',\n",
              " '87147464_ocr.xml',\n",
              " '87147658_ocr.xml',\n",
              " '87148191_ocr.xml',\n",
              " '91543951_3952_ocr.xml',\n",
              " '87803303_ocr.xml',\n",
              " '89703081_ocr.xml',\n",
              " '91575506_5509_ocr.xml',\n",
              " '87803300_ocr.xml',\n",
              " '89000106_ocr.xml',\n",
              " '91382505_ocr.xml',\n",
              " '91691919_ocr.xml',\n",
              " '92173709_ocr.xml',\n",
              " '92185588_ocr.xml',\n",
              " '91668026_ocr.xml',\n",
              " '91660729_ocr.xml',\n",
              " '91660806_ocr.xml',\n",
              " '92185547_ocr.xml',\n",
              " '91781209_ocr.xml',\n",
              " '92872435_ocr.xml',\n",
              " '92214362_ocr.xml',\n",
              " '92857105_7106_ocr.xml',\n",
              " '92243549_ocr.xml',\n",
              " '92857672_7674_ocr.xml',\n",
              " '92856427_ocr.xml',\n",
              " '92204693_ocr.xml',\n",
              " '93118328_ocr.xml',\n",
              " '93118029_ocr.xml',\n",
              " '93216067_ocr.xml',\n",
              " '92891078_1079_ocr.xml',\n",
              " '92872589_ocr.xml',\n",
              " '92873320_3322_ocr.xml',\n",
              " '93413397_ocr.xml',\n",
              " '93115392_ocr.xml',\n",
              " '97072207_ocr.xml',\n",
              " '93416591_ocr.xml',\n",
              " '96403982_ocr.xml',\n",
              " '94389911_ocr.xml',\n",
              " '96063482_ocr.xml',\n",
              " '96052028_ocr.xml',\n",
              " '96063504_ocr.xml',\n",
              " '99380614_ocr.xml',\n",
              " '500234635+-4635_ocr.xml',\n",
              " '500124393+-4395_ocr.xml',\n",
              " '99380808_0809_ocr.xml',\n",
              " '500125481+-5481_ocr.xml',\n",
              " '500125099+-5100_ocr.xml',\n",
              " '503918489+-8489_ocr.xml',\n",
              " '501526349_ocr.xml',\n",
              " '502329893_ocr.xml',\n",
              " '503116428+-6428_ocr.xml',\n",
              " '503116473+-6473_ocr.xml',\n",
              " '501149455_ocr.xml',\n",
              " '503731884+-1884_ocr.xml',\n",
              " '505863295_ocr.xml',\n",
              " '505852048_505852049_ocr.xml',\n",
              " '504023473_504023487_ocr.xml',\n",
              " '506133684_ocr.xml',\n",
              " '506413423_ocr.xml',\n",
              " '506593709+-3709_ocr.xml',\n",
              " '507053446_ocr.xml',\n",
              " '508560943+-0943_ocr.xml',\n",
              " '512981600_512981601_ocr.xml',\n",
              " '507484246_ocr.xml',\n",
              " '507876895_ocr.xml',\n",
              " '508725601+-5603_ocr.xml',\n",
              " '512981614_ocr.xml',\n",
              " '512984376_ocr.xml',\n",
              " '513162677_ocr.xml',\n",
              " '514858736_ocr.xml',\n",
              " '512985656_512985715_ocr.xml',\n",
              " '514218180+-8181_ocr.xml',\n",
              " '514858504_514858506_ocr.xml',\n",
              " '514802406+-2409_ocr.xml',\n",
              " '513167179_ocr.xml',\n",
              " '513161378_513161414_ocr.xml',\n",
              " '513265741_513265875_ocr.xml',\n",
              " '515618394+-8397_ocr.xml',\n",
              " '518232874+-2876_ocr.xml',\n",
              " '518253165+-3165_ocr.xml',\n",
              " '518253587+-3590_ocr.xml',\n",
              " '518232927+-2934_ocr.xml',\n",
              " '518232342+-2342_ocr.xml',\n",
              " '518253610+-3615_ocr.xml',\n",
              " '518029843_518029864_ocr.xml',\n",
              " '514967102+-7103_ocr.xml',\n",
              " '518240658+-0669_ocr.xml',\n",
              " '518232323+-2324_ocr.xml',\n",
              " '518492684+-2684_ocr.xml',\n",
              " '518284421+-4430_ocr.xml',\n",
              " '518284417+-4420_ocr.xml',\n",
              " '518259424+-9431_ocr.xml',\n",
              " '518491313+-1315_ocr.xml',\n",
              " '518253707+-3715_ocr.xml',\n",
              " '518256338+-6338_ocr.xml',\n",
              " '518253689+-3695_ocr.xml',\n",
              " '521107137+-7140_ocr.xml',\n",
              " '526450353+-0353_ocr.xml',\n",
              " '1000031514_ocr.xml',\n",
              " '2001207817_ocr.xml',\n",
              " '526450388+-0388_ocr.xml',\n",
              " '2001200321_ocr.xml',\n",
              " '526450292+-0292_ocr.xml',\n",
              " '524483561+-3562_ocr.xml',\n",
              " '526509181+-9181_ocr.xml',\n",
              " '580108985+-8990_ocr.xml',\n",
              " '1001608664_1001608665_ocr.xml',\n",
              " '524630313+-0313_ocr.xml',\n",
              " '2021308414_ocr.xml',\n",
              " '2015064568_ocr.xml',\n",
              " '2021637692_ocr.xml',\n",
              " '2021637760_ocr.xml',\n",
              " '2001213573_ocr.xml',\n",
              " '2001213789_ocr.xml',\n",
              " '2015020047_ocr.xml',\n",
              " '2023133413_ocr.xml',\n",
              " '2015037409_ocr.xml',\n",
              " '2015003772_ocr.xml',\n",
              " '2023592499_ocr.xml',\n",
              " '2023591606_2023591608_ocr.xml',\n",
              " '2023527344_ocr.xml',\n",
              " '2024476618_ocr.xml',\n",
              " '2023592544_ocr.xml',\n",
              " '2024525658_ocr.xml',\n",
              " '2024485248_ocr.xml',\n",
              " '2023592678_ocr.xml',\n",
              " '2028674067_ocr.xml',\n",
              " '2026000623_ocr.xml',\n",
              " '2028696695_ocr.xml',\n",
              " '2026000180_ocr.xml',\n",
              " '2025019037_ocr.xml',\n",
              " '2024526163_2024526164_ocr.xml',\n",
              " '2028726871_ocr.xml',\n",
              " '2028719721_ocr.xml',\n",
              " '2028697011_ocr.xml',\n",
              " '2028703417_ocr.xml',\n",
              " '2028704426_ocr.xml',\n",
              " '2028729078_ocr.xml',\n",
              " '2029370804_ocr.xml',\n",
              " '2029370271_ocr.xml',\n",
              " '2029200005_ocr.xml',\n",
              " '2029370308_ocr.xml',\n",
              " '2029370464_ocr.xml',\n",
              " '2029138584_ocr.xml',\n",
              " '2028811996_ocr.xml',\n",
              " '2029378060_ocr.xml',\n",
              " '2029377607_ocr.xml',\n",
              " '2029377724_ocr.xml',\n",
              " '2029372111_2029372112_ocr.xml',\n",
              " '2029377295_ocr.xml',\n",
              " '2029377288_ocr.xml',\n",
              " '2030015848_ocr.xml',\n",
              " '2030138139_ocr.xml',\n",
              " '2030305992_ocr.xml',\n",
              " '2030138076_2030138077_ocr.xml',\n",
              " '2029378157_ocr.xml',\n",
              " '2030403394_2030403397_ocr.xml',\n",
              " '2030395581_ocr.xml',\n",
              " '2040345058_ocr.xml',\n",
              " '2037023778_ocr.xml',\n",
              " '2041222841_ocr.xml',\n",
              " '2040345061_ocr.xml',\n",
              " '2041158049_ocr.xml',\n",
              " '2041158261_ocr.xml',\n",
              " '2041063035_ocr.xml',\n",
              " '2040687664_ocr.xml',\n",
              " '2041222828_ocr.xml',\n",
              " '2040735287_ocr.xml',\n",
              " '2042529534_ocr.xml',\n",
              " '2041954112_ocr.xml',\n",
              " '2042356681_ocr.xml',\n",
              " '2041597671_2041597672_ocr.xml',\n",
              " '2042525639_ocr.xml',\n",
              " '2041531738_1761_ocr.xml',\n",
              " '2041954113_ocr.xml',\n",
              " '2041532206_ocr.xml',\n",
              " '2041388921_ocr.xml',\n",
              " '2041531460_ocr.xml',\n",
              " '2043396778_ocr.xml',\n",
              " '2044348035_ocr.xml',\n",
              " '2044696237_ocr.xml',\n",
              " '2044348020_ocr.xml',\n",
              " '2044444071_ocr.xml',\n",
              " '2043342113_ocr.xml',\n",
              " '2044146550_ocr.xml',\n",
              " '2044448039_ocr.xml',\n",
              " '2044694612_ocr.xml',\n",
              " '2044688196_ocr.xml',\n",
              " '2044402070_ocr.xml',\n",
              " '2048616045_6046_ocr.xml',\n",
              " '2055018950_ocr.xml',\n",
              " '2061828225_ocr.xml',\n",
              " '2051801680_ocr.xml',\n",
              " '2050763071_ocr.xml',\n",
              " '2050760415_ocr.xml',\n",
              " '2047260303_ocr.xml',\n",
              " '2056446070_ocr.xml',\n",
              " '2049142971_ocr.xml',\n",
              " '2050760847_ocr.xml',\n",
              " '2063162659_ocr.xml',\n",
              " '2063209074_9077_ocr.xml',\n",
              " '2063233533_ocr.xml',\n",
              " '2063216131_ocr.xml',\n",
              " '2062100711_ocr.xml',\n",
              " '2063216033_ocr.xml',\n",
              " '2063207059_7062_ocr.xml',\n",
              " '2062543842_ocr.xml',\n",
              " '2063113184_ocr.xml',\n",
              " '2063113779_ocr.xml',\n",
              " '2063208746_ocr.xml',\n",
              " '2063250015_ocr.xml',\n",
              " '2063322469_ocr.xml',\n",
              " '2063610071_ocr.xml',\n",
              " '2063249953_ocr.xml',\n",
              " '2063235029_ocr.xml',\n",
              " '2063576888_ocr.xml',\n",
              " '2063590390_ocr.xml',\n",
              " '2063610122_ocr.xml',\n",
              " '2063610040_ocr.xml',\n",
              " '2063576893_ocr.xml',\n",
              " '2063610103_ocr.xml',\n",
              " '2063319693_ocr.xml',\n",
              " '2063610172_ocr.xml',\n",
              " '2065216982_ocr.xml',\n",
              " '2063650388_ocr.xml',\n",
              " '2065238574_ocr.xml',\n",
              " '2063846615_ocr.xml',\n",
              " '2065239368_ocr.xml',\n",
              " '2064225959_ocr.xml',\n",
              " '2065364917_ocr.xml',\n",
              " '2063611385_ocr.xml',\n",
              " '2064345524_ocr.xml',\n",
              " '2064339433_ocr.xml',\n",
              " '2064978624_ocr.xml',\n",
              " '2070425058_ocr.xml',\n",
              " '2070425084_ocr.xml',\n",
              " '2065466615_ocr.xml',\n",
              " '2071021272_ocr.xml',\n",
              " '2070424201_ocr.xml',\n",
              " '2070584510_ocr.xml',\n",
              " '2071217429_ocr.xml',\n",
              " '2071217430_ocr.xml',\n",
              " '2070424009_ocr.xml',\n",
              " '2070238500_ocr.xml',\n",
              " '2071217600_ocr.xml',\n",
              " '2070750524_ocr.xml',\n",
              " '2071413111_ocr.xml',\n",
              " '2072957848_ocr.xml',\n",
              " '2071413187_ocr.xml',\n",
              " '2072957830_ocr.xml',\n",
              " '2071382979_ocr.xml',\n",
              " '2072860354_ocr.xml',\n",
              " '2073684118_ocr.xml',\n",
              " '2072957946_ocr.xml',\n",
              " '2071557502_ocr.xml',\n",
              " '2071386322_ocr.xml',\n",
              " '2072484071_ocr.xml',\n",
              " '2073684235_ocr.xml',\n",
              " '2080272271_ocr.xml',\n",
              " '2080272310_ocr.xml',\n",
              " '2073883150_ocr.xml',\n",
              " '2073883308_ocr.xml',\n",
              " '2074660627_ocr.xml',\n",
              " '2073684342_ocr.xml',\n",
              " '2074417069_ocr.xml',\n",
              " '2074484114_ocr.xml',\n",
              " '2077000123_ocr.xml',\n",
              " '2073883306_ocr.xml',\n",
              " '2073883154_ocr.xml',\n",
              " '2077000168_0169_ocr.xml',\n",
              " '2080705096_ocr.xml',\n",
              " '2080724769_ocr.xml',\n",
              " '2080724768_ocr.xml',\n",
              " '2080731237_ocr.xml',\n",
              " '2083197453_ocr.xml',\n",
              " '2083197818_7819_ocr.xml',\n",
              " '2084020274_0276_ocr.xml',\n",
              " '2080978792_8793_ocr.xml',\n",
              " '2083674163_4166_ocr.xml',\n",
              " '2080972555_ocr.xml',\n",
              " '2084022139_ocr.xml',\n",
              " '2084022143_ocr.xml',\n",
              " '2084022136_ocr.xml',\n",
              " '2084021796_ocr.xml',\n",
              " '2084022002_ocr.xml',\n",
              " '2084022128_ocr.xml',\n",
              " '2084022167_ocr.xml',\n",
              " '2084021870_ocr.xml',\n",
              " '2084022076_ocr.xml',\n",
              " '2084021799_ocr.xml',\n",
              " '2084020376_ocr.xml',\n",
              " '2084022124_ocr.xml',\n",
              " '2084022243_ocr.xml',\n",
              " '2084022539_ocr.xml',\n",
              " '2084022347_ocr.xml',\n",
              " '2084022300_ocr.xml',\n",
              " '2084022482_ocr.xml',\n",
              " '2084022313_ocr.xml',\n",
              " '2084022184_ocr.xml',\n",
              " '2084022805_ocr.xml',\n",
              " '2084022317_ocr.xml',\n",
              " '2084022414_ocr.xml',\n",
              " '2084022627_ocr.xml',\n",
              " '2085532852_ocr.xml',\n",
              " '2085539738_ocr.xml',\n",
              " '2085699260_ocr.xml',\n",
              " '2085534883_ocr.xml',\n",
              " '2085538660_ocr.xml',\n",
              " '2085538756_ocr.xml',\n",
              " '2085540098_ocr.xml',\n",
              " '2085538659_ocr.xml',\n",
              " '2085699092_ocr.xml',\n",
              " '2084024707_ocr.xml',\n",
              " '2085529729_ocr.xml',\n",
              " '2085540620_ocr.xml',\n",
              " '2085699682_ocr.xml',\n",
              " '2501367970_2501368014_ocr.xml',\n",
              " '2501368827_ocr.xml',\n",
              " '2501335209_2501335213_ocr.xml',\n",
              " '2501336351_ocr.xml',\n",
              " '2501336486_ocr.xml',\n",
              " '2501336772_ocr.xml',\n",
              " '2501336291_2501336296_ocr.xml',\n",
              " '2501374061_2501374062_ocr.xml',\n",
              " '2501605386_ocr.xml',\n",
              " '2501336275_2501336276_ocr.xml',\n",
              " 'ti01410937_ocr.xml',\n",
              " '2502268385_ocr.xml',\n",
              " 'CTRCONTRACTS017947-7_ocr.xml',\n",
              " '2505165622_ocr.xml',\n",
              " 'ti01410980_ocr.xml',\n",
              " 'CTRCONTRACTS017922-7_ocr.xml',\n",
              " '2505118349_ocr.xml',\n",
              " 'ti00911106_1107_ocr.xml',\n",
              " 'CTRSP-FILES025078-50_ocr.xml',\n",
              " 'CTRCONTRACTS011517-1_ocr.xml',\n",
              " '2505123539_3542_ocr.xml',\n",
              " 'ti09920313_ocr.xml',\n",
              " 'ti15358056_8057_ocr.xml',\n",
              " 'ti10160632_ocr.xml',\n",
              " 'ti16310262_ocr.xml',\n",
              " 'ti16310260_ocr.xml',\n",
              " 'ti16310079_ocr.xml',\n",
              " 'ti16310336_ocr.xml',\n",
              " 'ti16310048_ocr.xml',\n",
              " 'ti09922229_ocr.xml',\n",
              " 'ti16310152_ocr.xml',\n",
              " 'ti16131011_1013_ocr.xml',\n",
              " 'ti15609058_ocr.xml',\n",
              " 'ti16311096_ocr.xml',\n",
              " 'ti16310917_ocr.xml',\n",
              " 'ti16311032_ocr.xml',\n",
              " 'ti16310545_ocr.xml',\n",
              " 'ti16310857_ocr.xml',\n",
              " 'ti16310543_ocr.xml',\n",
              " 'ti16400164_ocr.xml',\n",
              " 'ti16310660_ocr.xml',\n",
              " 'ti16311155_ocr.xml',\n",
              " 'ti16400238_ocr.xml',\n",
              " 'ti16311156_ocr.xml',\n",
              " 'ti16310407_ocr.xml',\n",
              " 'ti17120431_ocr.xml',\n",
              " 'ti17120370_ocr.xml',\n",
              " 'ti16532219_2220_ocr.xml',\n",
              " 'ti16801274_ocr.xml',\n",
              " 'ti17120099_ocr.xml',\n",
              " 'ti16400316_ocr.xml',\n",
              " 'ti16400373_ocr.xml',\n",
              " 'ti16400444_ocr.xml',\n",
              " 'ti17120027_ocr.xml',\n",
              " 'ti16400388_ocr.xml',\n",
              " 'tob02910.64_ocr.xml',\n",
              " 'ti31689150_ocr.xml',\n",
              " 'ti17120743_ocr.xml',\n",
              " 'ti31689113_ocr.xml',\n",
              " 'ti31149327_9330_ocr.xml',\n",
              " 'ti17120498_ocr.xml',\n",
              " 'ti17120992_ocr.xml',\n",
              " 'invoice_image_processing.py',\n",
              " 'invoice_entity.py',\n",
              " 'Output.json',\n",
              " 'pics',\n",
              " 'annotations',\n",
              " 'test_pics',\n",
              " 'test_annotations',\n",
              " 'snapshots',\n",
              " 'classes.csv']"
            ]
          },
          "metadata": {
            "tags": []
          },
          "execution_count": 50
        }
      ]
    },
    {
      "cell_type": "code",
      "metadata": {
        "id": "3a6QcuhaAuQJ",
        "colab": {
          "base_uri": "https://localhost:8080/"
        },
        "outputId": "1bd19c14-4515-443e-e861-05750bdaccee"
      },
      "source": [
        "from glob import glob\n",
        "model_paths = glob('snapshots/resnet50_csv_*.h5')\n",
        "latest_path = sorted(model_paths)[-1]\n",
        "print(\"path:\", latest_path)\n",
        "\n",
        "model = models.load_model(latest_path, backbone_name='resnet50')\n",
        "#print(1)\n",
        "model = models.convert_model(model)\n",
        "#print(2)\n",
        "\n",
        "label_map = {}\n",
        "for line in open('../drive/MyDrive/GT_Invoices/classes.csv'):\n",
        "  #print(3)\n",
        "  row = line.rstrip().split(',')\n",
        "  print(row)\n",
        "  label_map[int(row[1])] = row[0]"
      ],
      "execution_count": null,
      "outputs": [
        {
          "output_type": "stream",
          "text": [
            "path: snapshots/resnet50_csv_15.h5\n",
            "['receiver', '0']\n",
            "['other', '1']\n",
            "['invoice_info', '2']\n",
            "['total', '3']\n",
            "['positions', '4']\n",
            "['supplier', '5']\n"
          ],
          "name": "stdout"
        }
      ]
    },
    {
      "cell_type": "code",
      "metadata": {
        "id": "C8N3-V-L4Y3u"
      },
      "source": [
        "!head ../drive/MyDrive/GT_Invoices/classes.csv"
      ],
      "execution_count": null,
      "outputs": []
    },
    {
      "cell_type": "code",
      "metadata": {
        "id": "MyaQjfl0DWzi"
      },
      "source": [
        "def show_image_with_predictions(df, threshold=0.6):\n",
        "  # choose a random image\n",
        "  row = df.sample()\n",
        "  filepath = \"/content/drive/MyDrive/GT_Invoices/pics/\"+df.sample()[0].values[0]\n",
        "  print(\"filepath:\", filepath)\n",
        "\n",
        "  # get all rows for this image\n",
        "  df2 = df[df[0] == filepath.split(\"/pics/\")[-1]]\n",
        "  im = np.array(cv2.imread(filepath))\n",
        "  print(\"im.shape:\", im.shape)\n",
        "\n",
        "  # if there's a PNG it will have alpha channel\n",
        "  #im = im[:,:,:3]\n",
        "\n",
        "  # plot true boxes\n",
        "  for idx, row in df2.iterrows():\n",
        "    box = [\n",
        "      row[1],\n",
        "      row[2],\n",
        "      row[3],\n",
        "      row[4],\n",
        "    ]\n",
        "    print(box)\n",
        "    draw_box(im, box, color=(255, 0, 0))\n",
        "  \n",
        "  ### plot predictions ###\n",
        "\n",
        "  # get predictions\n",
        "  imp = preprocess_image(im)\n",
        "  imp, scale = resize_image(im)\n",
        "\n",
        "  boxes, scores, labels = model.predict_on_batch(\n",
        "    np.expand_dims(im, axis=0)\n",
        "  )\n",
        "\n",
        "  # standardize box coordinates\n",
        "  boxes /= scale\n",
        "\n",
        "  # loop through each prediction for the input image\n",
        "  for box, score, label in zip(boxes[0], scores[0], labels[0]):\n",
        "    # scores are sorted so we can quit as soon\n",
        "    # as we see a score below threshold\n",
        "    if score < threshold:\n",
        "      break\n",
        "\n",
        "    box = box.astype(np.int32)\n",
        "    color = label_color(label)\n",
        "    draw_box(im, box, color=color)\n",
        "\n",
        "    class_name = label_map[label]\n",
        "    caption = f\"{class_name} {score:.3f}\"\n",
        "    draw_caption(im, box, caption)\n",
        "\n",
        "  plt.axis('off')\n",
        "  plt.imshow(im)\n",
        "  plt.show()\n"
      ],
      "execution_count": null,
      "outputs": []
    },
    {
      "cell_type": "code",
      "metadata": {
        "colab": {
          "base_uri": "https://localhost:8080/"
        },
        "id": "MSxzD69i38ci",
        "outputId": "5f349160-1263-45a7-e96d-b2ea741a2575"
      },
      "source": [
        "label_map"
      ],
      "execution_count": null,
      "outputs": [
        {
          "output_type": "execute_result",
          "data": {
            "text/plain": [
              "{}"
            ]
          },
          "metadata": {
            "tags": []
          },
          "execution_count": 78
        }
      ]
    },
    {
      "cell_type": "code",
      "metadata": {
        "colab": {
          "base_uri": "https://localhost:8080/",
          "height": 35
        },
        "id": "NDKEAkQ32vL8",
        "outputId": "7b62ac69-0b89-4227-b53c-1ab4ccdcb16c"
      },
      "source": [
        "filepath = \"/content/drive/MyDrive/GT_Invoices/pics/\"+train_df.sample()[0].values[0]\n",
        "filepath"
      ],
      "execution_count": null,
      "outputs": [
        {
          "output_type": "execute_result",
          "data": {
            "application/vnd.google.colaboratory.intrinsic+json": {
              "type": "string"
            },
            "text/plain": [
              "'/content/drive/MyDrive/GT_Invoices/pics/2083197453.tif'"
            ]
          },
          "metadata": {
            "tags": []
          },
          "execution_count": 70
        }
      ]
    },
    {
      "cell_type": "code",
      "metadata": {
        "colab": {
          "base_uri": "https://localhost:8080/",
          "height": 345
        },
        "id": "a05jALEK2-q6",
        "outputId": "2c324697-7621-4a3c-d66d-6a961b7c791a"
      },
      "source": [
        "df2 = train_df[train_df[0] == filepath.split(\"/pics/\")[-1]]\n",
        "df2"
      ],
      "execution_count": null,
      "outputs": [
        {
          "output_type": "execute_result",
          "data": {
            "text/html": [
              "<div>\n",
              "<style scoped>\n",
              "    .dataframe tbody tr th:only-of-type {\n",
              "        vertical-align: middle;\n",
              "    }\n",
              "\n",
              "    .dataframe tbody tr th {\n",
              "        vertical-align: top;\n",
              "    }\n",
              "\n",
              "    .dataframe thead th {\n",
              "        text-align: right;\n",
              "    }\n",
              "</style>\n",
              "<table border=\"1\" class=\"dataframe\">\n",
              "  <thead>\n",
              "    <tr style=\"text-align: right;\">\n",
              "      <th></th>\n",
              "      <th>0</th>\n",
              "      <th>1</th>\n",
              "      <th>2</th>\n",
              "      <th>3</th>\n",
              "      <th>4</th>\n",
              "      <th>5</th>\n",
              "    </tr>\n",
              "  </thead>\n",
              "  <tbody>\n",
              "    <tr>\n",
              "      <th>9</th>\n",
              "      <td>2083197453.tif</td>\n",
              "      <td>381</td>\n",
              "      <td>175</td>\n",
              "      <td>733</td>\n",
              "      <td>314</td>\n",
              "      <td>supplier</td>\n",
              "    </tr>\n",
              "    <tr>\n",
              "      <th>248</th>\n",
              "      <td>2083197453.tif</td>\n",
              "      <td>15</td>\n",
              "      <td>700</td>\n",
              "      <td>734</td>\n",
              "      <td>750</td>\n",
              "      <td>total</td>\n",
              "    </tr>\n",
              "    <tr>\n",
              "      <th>477</th>\n",
              "      <td>2083197453.tif</td>\n",
              "      <td>542</td>\n",
              "      <td>109</td>\n",
              "      <td>732</td>\n",
              "      <td>167</td>\n",
              "      <td>invoice_info</td>\n",
              "    </tr>\n",
              "    <tr>\n",
              "      <th>1343</th>\n",
              "      <td>2083197453.tif</td>\n",
              "      <td>15</td>\n",
              "      <td>318</td>\n",
              "      <td>734</td>\n",
              "      <td>698</td>\n",
              "      <td>positions</td>\n",
              "    </tr>\n",
              "    <tr>\n",
              "      <th>1882</th>\n",
              "      <td>2083197453.tif</td>\n",
              "      <td>16</td>\n",
              "      <td>913</td>\n",
              "      <td>673</td>\n",
              "      <td>987</td>\n",
              "      <td>invoice_info</td>\n",
              "    </tr>\n",
              "    <tr>\n",
              "      <th>2180</th>\n",
              "      <td>2083197453.tif</td>\n",
              "      <td>543</td>\n",
              "      <td>59</td>\n",
              "      <td>731</td>\n",
              "      <td>103</td>\n",
              "      <td>other</td>\n",
              "    </tr>\n",
              "    <tr>\n",
              "      <th>2349</th>\n",
              "      <td>2083197453.tif</td>\n",
              "      <td>15</td>\n",
              "      <td>172</td>\n",
              "      <td>372</td>\n",
              "      <td>314</td>\n",
              "      <td>receiver</td>\n",
              "    </tr>\n",
              "    <tr>\n",
              "      <th>3547</th>\n",
              "      <td>2083197453.tif</td>\n",
              "      <td>541</td>\n",
              "      <td>762</td>\n",
              "      <td>734</td>\n",
              "      <td>796</td>\n",
              "      <td>other</td>\n",
              "    </tr>\n",
              "    <tr>\n",
              "      <th>3684</th>\n",
              "      <td>2083197453.tif</td>\n",
              "      <td>430</td>\n",
              "      <td>802</td>\n",
              "      <td>672</td>\n",
              "      <td>908</td>\n",
              "      <td>supplier</td>\n",
              "    </tr>\n",
              "    <tr>\n",
              "      <th>3768</th>\n",
              "      <td>2083197453.tif</td>\n",
              "      <td>16</td>\n",
              "      <td>59</td>\n",
              "      <td>536</td>\n",
              "      <td>167</td>\n",
              "      <td>supplier</td>\n",
              "    </tr>\n",
              "  </tbody>\n",
              "</table>\n",
              "</div>"
            ],
            "text/plain": [
              "                   0    1    2    3    4             5\n",
              "9     2083197453.tif  381  175  733  314      supplier\n",
              "248   2083197453.tif   15  700  734  750         total\n",
              "477   2083197453.tif  542  109  732  167  invoice_info\n",
              "1343  2083197453.tif   15  318  734  698     positions\n",
              "1882  2083197453.tif   16  913  673  987  invoice_info\n",
              "2180  2083197453.tif  543   59  731  103         other\n",
              "2349  2083197453.tif   15  172  372  314      receiver\n",
              "3547  2083197453.tif  541  762  734  796         other\n",
              "3684  2083197453.tif  430  802  672  908      supplier\n",
              "3768  2083197453.tif   16   59  536  167      supplier"
            ]
          },
          "metadata": {
            "tags": []
          },
          "execution_count": 72
        }
      ]
    },
    {
      "cell_type": "code",
      "metadata": {
        "id": "J_jj3G4R3L0U"
      },
      "source": [
        "im = np.array(Image.open(filepath))\n",
        "plt.imshow()"
      ],
      "execution_count": null,
      "outputs": []
    },
    {
      "cell_type": "code",
      "metadata": {
        "id": "1LYYsik0Ja_U"
      },
      "source": [
        "plt.rcParams['figure.figsize'] = [20, 10]"
      ],
      "execution_count": null,
      "outputs": []
    },
    {
      "cell_type": "code",
      "metadata": {
        "id": "VxiW2g4CDvr8",
        "colab": {
          "base_uri": "https://localhost:8080/",
          "height": 793
        },
        "outputId": "e3241137-b8de-4445-acd6-562777cbdb4a"
      },
      "source": [
        "show_image_with_predictions(train_df, threshold=0.5)"
      ],
      "execution_count": null,
      "outputs": [
        {
          "output_type": "stream",
          "text": [
            "filepath: /content/drive/MyDrive/GT_Invoices/pics/2029377288.tif\n",
            "im.shape: (1000, 765, 3)\n",
            "[37, 849, 707, 918]\n",
            "[104, 614, 709, 662]\n",
            "[504, 86, 632, 147]\n",
            "[561, 930, 709, 959]\n",
            "[522, 190, 710, 292]\n",
            "[620, 8, 733, 24]\n",
            "[77, 269, 216, 297]\n",
            "[22, 317, 745, 614]\n",
            "[100, 796, 704, 840]\n",
            "[32, 664, 706, 792]\n",
            "[100, 48, 339, 191]\n"
          ],
          "name": "stdout"
        },
        {
          "output_type": "display_data",
          "data": {
            "image/png": "[encoded data removed]",
            "text/plain": [
              "<Figure size 1440x720 with 1 Axes>"
            ]
          },
          "metadata": {
            "tags": [],
            "needs_background": "light"
          }
        }
      ]
    }
  ]
}